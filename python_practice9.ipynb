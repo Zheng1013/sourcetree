{
 "cells": [
  {
   "cell_type": "code",
   "execution_count": 7,
   "metadata": {},
   "outputs": [
    {
     "name": "stdout",
     "output_type": "stream",
     "text": [
      "Leon 87\n",
      "Ben 90\n",
      "Sam 77\n",
      "Karen 92 \n",
      "Kelena 92\n"
     ]
    }
   ],
   "source": [
    "# 成績資料\n",
    "'''\n",
    "設計說明：\n",
    "請撰寫一程式，將使用者輸入的五筆資料寫入到write.txt（若不存在，則讓程式建立它），每一筆資料為一行，包含學生名字和期末總分，以空白隔開。檔案寫入完成後要關閉。\n",
    "'''\n",
    "with open(file='./data/write.txt',mode='a',encoding='utf-8') as f :\n",
    "    for _ in range(5):\n",
    "        scores = str(input('請輸入學生姓名及期末總分，並以空白間隔')) \n",
    "        f.write(scores + '\\n')\n",
    "        print(scores)\n"
   ]
  },
  {
   "cell_type": "code",
   "execution_count": 21,
   "metadata": {},
   "outputs": [
    {
     "name": "stdout",
     "output_type": "stream",
     "text": [
      "510\n"
     ]
    }
   ],
   "source": [
    "# 資料加總\n",
    "'''\n",
    "設計說明：\n",
    "請撰寫一程式，讀取read.txt的內容（內容為數字，以空白分隔）並將這些數字加總後輸出。檔案讀取完成後要關閉。\n",
    "'''\n",
    "with open('./data/read.txt','r') as file :\n",
    "    nums = file.read()\n",
    "    num_list = [int(num) for num in nums.split(' ')]\n",
    "    print(sum(num_list))"
   ]
  },
  {
   "cell_type": "code",
   "execution_count": 26,
   "metadata": {},
   "outputs": [
    {
     "name": "stdout",
     "output_type": "stream",
     "text": [
      "Append completed!\n",
      "Content of \"data.txt\":\n",
      "Ben\n",
      "Cathy\n",
      "Tony\n",
      "Daisy\n",
      "Kelvin\n",
      "Tom\n",
      "Joyce\n",
      "Sarah\n"
     ]
    }
   ],
   "source": [
    "# 成績資料\n",
    "'''\n",
    "設計說明：\n",
    "請撰寫一程式，要求使用者輸入五個人的名字並加入到data.txt的尾端。之後再顯示此檔案的內容。\n",
    "'''\n",
    "\n",
    "with open('./data/data.txt',mode='a',encoding='utf-8') as f :\n",
    "    f.write('\\n')\n",
    "    for _ in range(5):\n",
    "        name = str(input('請輸入名字'))\n",
    "        f.write(name + '\\n')\n",
    "    \n",
    "with open('./data.txt',mode='r',encoding='utf-8') as f :\n",
    "    for content in f :\n",
    "        print(content , end='')"
   ]
  },
  {
   "cell_type": "code",
   "execution_count": 147,
   "metadata": {},
   "outputs": [
    {
     "name": "stdout",
     "output_type": "stream",
     "text": [
      "Ben 175 65\n",
      "Cathy 155 55\n",
      "Tony 172 75\n",
      "Average height: 167.33\n",
      "Average weight: 65.00\n",
      "The tallest is Ben with 175.00\n",
      "The heaviest is Tony with 75.00\n"
     ]
    }
   ],
   "source": [
    "# 資料計算\n",
    "'''\n",
    "設計說明：\n",
    "請撰寫一程式，讀取read.txt（每一列的格式為名字和身高、體重，以空白分隔）並顯示檔案內容、所有人的平均身高、平均體重以及最高者、最重者。\n",
    "提示：輸出浮點數到小數點後第二位。\n",
    "'''\n",
    "height = []\n",
    "weight = []\n",
    "with open('./data/read.txt',mode='r',encoding='utf-8') as f :\n",
    "    contents = f.readlines()\n",
    "    records = [content.strip().split(' ') for content in contents]\n",
    "\n",
    "    for content in contents:\n",
    "        print(content.strip())\n",
    "    \n",
    "    name = [record[0] for record in records]\n",
    "    height = [int(record[1]) for record in records]\n",
    "    weight = [int(record[2]) for record in records]\n",
    "    \n",
    "    max_h_index = height.index(max(height))\n",
    "    max_w_index = weight.index(max(weight))\n",
    "    \n",
    "    print(f'Average height: {sum(height)/len(height):.2f}')\n",
    "    print(f'Average weight: {sum(weight)/len(weight):.2f}')\n",
    "    print(f'The tallest is {name[max_h_index]} with {height[max_h_index]:.2f}')\n",
    "    print(f'The heaviest is {name[max_w_index]} with {weight[max_w_index]:.2f}')\n",
    "\n"
   ]
  },
  {
   "cell_type": "code",
   "execution_count": 155,
   "metadata": {},
   "outputs": [
    {
     "name": "stdout",
     "output_type": "stream",
     "text": [
      "=== Before the deletion\n",
      "Apple Kiwi Banana\n",
      "Tomato Pear Durian\n",
      "\n",
      "=== After the deletion\n",
      "Apple Kiwi \n",
      "Tomato Pear Durian\n"
     ]
    }
   ],
   "source": [
    "# 字串資料刪除\n",
    "'''\n",
    "設計說明：\n",
    "請撰寫一程式，要求使用者輸入檔案名稱data.txt和一字串s，顯示該檔案的內容。接著刪除檔案中的字串s，顯示刪除後的檔案內容並存檔。\n",
    "\n",
    "'''\n",
    "# 此方法不會更改fruit.txt內容\n",
    "with open('./data/fruit.txt',mode='r',encoding='utf-8') as f :\n",
    "    print('=== Before the deletion')\n",
    "    contents = f.read() \n",
    "    print(contents + '\\n')\n",
    "\n",
    "    print('=== After the deletion')\n",
    "    word = str(input('輸入要刪除的字'))\n",
    "    new_content = contents.replace(word,'')\n",
    "    print(new_content)\n",
    "\n",
    "# 此方法會更改fruit copy.txt內容\n",
    "with open('./data/fruit copy.txt',mode='r+',encoding='utf-8') as f :\n",
    "    print('=== Before the deletion')\n",
    "    contents = f.read() \n",
    "    print(contents + '\\n')\n",
    "\n",
    "    print('=== After the deletion')\n",
    "    word = str(input('輸入要刪除的字'))\n",
    "    new_content = contents.replace(word,'')\n",
    "    print(new_content)\n",
    "    \n",
    "    f.seek(0)\n",
    "    f.write(new_content)\n",
    "    f.truncate() # 使用r+模式,如果新內容比原始內容短,則會出現就內容沒有被蓋住的情況,\n",
    "                 # 可以使用tuncate()截斷,後續的內容"
   ]
  },
  {
   "cell_type": "code",
   "execution_count": 2,
   "metadata": {},
   "outputs": [
    {
     "name": "stdout",
     "output_type": "stream",
     "text": [
      "=== Before the replacement\n",
      "watch shoes skirt\n",
      "pen trunks pants\n",
      "=== After the replacement\n",
      "watch shoes skirt\n",
      "sneakers trunks pants\n"
     ]
    }
   ],
   "source": [
    "# 字串資料取代\n",
    "'''\n",
    "設計說明：\n",
    "請撰寫一程式，要求使用者輸入檔名data.txt、字串s1和字串s2。程式將檔案中的字串s1以s2取代之。\n",
    "'''\n",
    "with open('./data/clothes.txt',mode='r',encoding='utf-8') as file :\n",
    "    print('=== Before the replacement')\n",
    "    content = file.read()\n",
    "    print(content)\n",
    "    s1 = str(input('請輸入要被替代的字串'))\n",
    "    s2 = str(input('請輸入更新字串'))\n",
    "\n",
    "    print('=== After the replacement')\n",
    "    new_content = content.replace(s1,s2)\n",
    "    print(new_content)"
   ]
  },
  {
   "cell_type": "code",
   "execution_count": 36,
   "metadata": {},
   "outputs": [
    {
     "name": "stdout",
     "output_type": "stream",
     "text": [
      "3 line(s)\n",
      "9 word(s)\n",
      "35 character(s)\n"
     ]
    }
   ],
   "source": [
    "# 詳細資料顯示\n",
    "'''\n",
    "設計說明：\n",
    "請撰寫一程式，要求使用者輸入檔名read.txt，顯示該檔案的行數、單字數（簡單起見，單字以空白隔開即可，忽略其它標點符號）以及字元數（不含空白）。\n",
    "'''\n",
    "\n",
    "file_name = str(input('請輸入檔案名'))\n",
    "with open(file_name,mode='r',encoding='utf-8') as file :\n",
    "    line_count = 0 \n",
    "    word_count = 0\n",
    "    char_count = 0\n",
    "\n",
    "    for line in file :\n",
    "        line_count += 1\n",
    "        word_count += len(line.split(' '))\n",
    "        char_count += len(line)\n",
    "    \n",
    "    print(f'{line_count} line(s)')\n",
    "    print(f'{word_count} word(s)')\n",
    "    print(f'{char_count} character(s)')"
   ]
  },
  {
   "cell_type": "code",
   "execution_count": null,
   "metadata": {},
   "outputs": [],
   "source": [
    "# 單字次數計算\n",
    "'''\n",
    "設計說明：\n",
    "請撰寫一程式，要求使用者輸入檔名read.txt，以及檔案中某單字出現的次數。輸出符合次數的單字，並依單字的第一個字母大小排序。（單字的判斷以空白隔開即可）\n",
    "'''\n",
    "\n",
    "\n"
   ]
  },
  {
   "cell_type": "code",
   "execution_count": 1,
   "metadata": {},
   "outputs": [
    {
     "name": "stdout",
     "output_type": "stream",
     "text": [
      "Karen 123456789\n",
      "\n",
      "Bonnie 235689147\n",
      "\n",
      "Simon 987612345\n",
      "\n",
      "Louis 675489321\n",
      "\n",
      "Andy 019238475\n",
      "\n"
     ]
    }
   ],
   "source": [
    "# 聯絡人資料\n",
    "'''\n",
    "設計說明：\n",
    "請撰寫一程式，將使用者輸入的五個人的資料寫入data.dat檔，每一個人的資料為姓名和電話號碼，以空白分隔。再將檔案加以讀取並顯示檔案內容。\n",
    "'''\n",
    "\n",
    "with open('./data/data.dat', mode='w',encoding='utf-8') as file :\n",
    "    for i in range(5):\n",
    "        information = str(input(f'請輸入第{i+1}個聯絡人,姓名及電話(以空白分隔)'))\n",
    "        file.write(information + '\\n')\n",
    "\n",
    "with open('./data/data.dat',mode='r') as f :\n",
    "    print('The content of \"data.dat\":')\n",
    "    for line in f :\n",
    "        print(line)"
   ]
  },
  {
   "cell_type": "code",
   "execution_count": 13,
   "metadata": {},
   "outputs": [
    {
     "name": "stdout",
     "output_type": "stream",
     "text": [
      "學校 姓名 性別 科系\n",
      "\n",
      "101 陳小華 0 餐旅管理\n",
      "\n",
      "202 李小安 1 廣告\n",
      "\n",
      "303 張小威 1 英文\n",
      "\n",
      "404 羅小美 1 法文\n",
      "\n",
      "505 陳小凱 0 日文\n",
      "Number of male: 3\n",
      "Number of female: 2\n"
     ]
    }
   ],
   "source": [
    "# 學生基本資料\n",
    "'''\n",
    "設計說明：\n",
    "請撰寫一程式，要求使用者讀入read.dat（以UTF-8編碼格式讀取），第一列為欄位名稱，第二列之後是個人記錄。請輸出檔案內容並顯示男生人數和女生人數（根據\"性別\"欄位，0為女性、1為男性）\n",
    "'''\n",
    "\n",
    "with open('./data/read.dat',mode='r', encoding = 'utf-8') as file :\n",
    "    male , female = 0 , 0\n",
    "    for line in file :\n",
    "        print(line)\n",
    "        if line.split(' ')[2] == '0':\n",
    "            female += 1\n",
    "        elif line.split(' ')[2] == '1':\n",
    "            male += 1\n",
    "    print(f'Number of male: {male}')\n",
    "    print(f'Number of female: {female}')"
   ]
  },
  {
   "cell_type": "code",
   "execution_count": null,
   "metadata": {},
   "outputs": [],
   "source": []
  }
 ],
 "metadata": {
  "kernelspec": {
   "display_name": "py311",
   "language": "python",
   "name": "python3"
  },
  "language_info": {
   "codemirror_mode": {
    "name": "ipython",
    "version": 3
   },
   "file_extension": ".py",
   "mimetype": "text/x-python",
   "name": "python",
   "nbconvert_exporter": "python",
   "pygments_lexer": "ipython3",
   "version": "3.11.7"
  }
 },
 "nbformat": 4,
 "nbformat_minor": 2
}
