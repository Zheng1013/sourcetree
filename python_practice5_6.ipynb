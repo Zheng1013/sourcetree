{
 "cells": [
  {
   "cell_type": "code",
   "execution_count": 4,
   "metadata": {},
   "outputs": [
    {
     "name": "stdout",
     "output_type": "stream",
     "text": [
      "Department : Information Management\n",
      "Student ID : 123456789\n",
      "Name : Tina Chen\n"
     ]
    }
   ],
   "source": [
    "# 訊息顯示\n",
    "'''\n",
    "設計說明：\n",
    "請撰寫一程式，呼叫函式compute()，該函式功能為讓使用者輸入系別（Department）、學號（Student ID）和姓名（Name）並顯示這些訊息。\n",
    "'''\n",
    "\n",
    "def compute():\n",
    "    department = str(input('請輸入系別'))\n",
    "    id = str(input('請輸入學號'))\n",
    "    name = str(input('請輸入姓名'))\n",
    "    print(f'Department : {department}')\n",
    "    print(f'Student ID : {id}')\n",
    "    print(f'Name : {name}')\n",
    "\n",
    "if __name__ == '__main__':\n",
    "    compute()"
   ]
  },
  {
   "cell_type": "code",
   "execution_count": 3,
   "metadata": {},
   "outputs": [
    {
     "name": "stdout",
     "output_type": "stream",
     "text": [
      "-616\n"
     ]
    }
   ],
   "source": [
    "# 乘積\n",
    "'''\n",
    "設計說明：\n",
    "請撰寫一程式，將使用者輸入的兩個整數作為參數傳遞給一個名為compute(x, y)的函式，此函式將回傳x和y的乘積。\n",
    "'''\n",
    "def compute(x,y):\n",
    "    product = x*y\n",
    "    print(product)\n",
    "\n",
    "if __name__ == '__main__':\n",
    "    try:\n",
    "        num1 = int(input('請輸入第一個整數'))\n",
    "        num2 = int(input('請輸入第二個整數'))\n",
    "        compute(num1,num2)\n",
    "    except ValueError:\n",
    "        print('請輸入有效值')"
   ]
  },
  {
   "cell_type": "code",
   "execution_count": 9,
   "metadata": {},
   "outputs": [
    {
     "name": "stdout",
     "output_type": "stream",
     "text": [
      "1683\n"
     ]
    }
   ],
   "source": [
    "# 連加計算\n",
    "'''\n",
    "設計說明：\n",
    "請撰寫一程式，讓使用者輸入兩個整數，接著呼叫函式compute()，此函式接收兩個參數a、b，並回傳從a連加到b的和。\n",
    "'''\n",
    "\n",
    "def compute(x,y):\n",
    "    total = 0\n",
    "    for i in range(x,y+1):\n",
    "        total += i\n",
    "    print(total)\n",
    "\n",
    "if __name__ == '__main__':\n",
    "    try:\n",
    "\n",
    "        num1 = int(input('請輸入第一個整數'))\n",
    "        num2 = int(input('請輸入第二個整數'))\n",
    "        compute(num1,num2)\n",
    "\n",
    "    except ValueError:\n",
    "        print('請輸入有效值')\n",
    "\n"
   ]
  },
  {
   "cell_type": "code",
   "execution_count": 10,
   "metadata": {},
   "outputs": [
    {
     "name": "stdout",
     "output_type": "stream",
     "text": [
      "2744\n"
     ]
    }
   ],
   "source": [
    "# 次方計算\n",
    "'''\n",
    "設計說明：\n",
    "請撰寫一程式，讓使用者輸入兩個整數，接著呼叫函式compute()，此函式接收兩個參數a、b，並回傳a的b次方\n",
    "的值。\n",
    "'''\n",
    "def compute(x,y):\n",
    "    square = x**y\n",
    "    print(square)\n",
    "\n",
    "if __name__ == '__main__':\n",
    "    try:\n",
    "        num1 = int(input('請輸入第一個整數'))\n",
    "        num2 = int(input('請輸入第二個整數'))\n",
    "        compute(num1,num2)\n",
    "    except ValueError:\n",
    "        print('請輸入有效值')\n"
   ]
  },
  {
   "cell_type": "code",
   "execution_count": 18,
   "metadata": {},
   "outputs": [
    {
     "name": "stdout",
     "output_type": "stream",
     "text": [
      "a a a a a a a \n",
      "a a a a a a a \n",
      "a a a a a a a \n",
      "a a a a a a a \n",
      "a a a a a a a \n"
     ]
    }
   ],
   "source": [
    "# 依參數格式化輸出\n",
    "'''\n",
    "設計說明：\n",
    "請撰寫一程式，將使用者輸入的三個參數，變數名稱分別為a（代表字元character）、x（代表個數）、y（代表列數），作為參數傳遞給一個名為compute()的函式，該函式功能為：一列印出x個a字元，總共印出y列。\n",
    "提示：輸出的每一個字元後方有一空格。\n",
    "'''\n",
    "\n",
    "def compute(a,x,y):\n",
    "    for i in range(y):\n",
    "        for j in range(x):\n",
    "            print(f'{a:<2s}',end='')\n",
    "        print()\n",
    "\n",
    "if __name__ == '__main__':\n",
    "    try:\n",
    "        char = str(input('請輸入一個字元'))\n",
    "        quantity = int(input('每行輸出個數'))\n",
    "        row = int(input('輸出列數'))\n",
    "        compute(char,quantity,row)\n",
    "    except ValueError:\n",
    "        print('請輸入有效值')"
   ]
  },
  {
   "cell_type": "code",
   "execution_count": 21,
   "metadata": {},
   "outputs": [
    {
     "name": "stdout",
     "output_type": "stream",
     "text": [
      "2.0 1.0\n"
     ]
    }
   ],
   "source": [
    "# 一元二次方程式\n",
    "'''\n",
    "設計說明：\n",
    "請撰寫一程式，將使用者輸入的三個整數（代表一元二次方程式 \n",
    " 的三個係數a、b、c）作為參數傳遞給一個名為compute()的函式，該函式回傳方程式的解，如無解則輸出【Your equation has no root.】\n",
    "提示：\n",
    "輸出有順序性\n",
    "回傳方程式的解，無須考慮小數點位數\n",
    "'''\n",
    "\n",
    "def compute(a,b,c):\n",
    "    square = b**2 - 4*a*c\n",
    "    if square < 0 : \n",
    "        print('Your equation has no root.')\n",
    "    elif square == 0 :\n",
    "        ans = -b/4*a*c\n",
    "        print(ans)\n",
    "    else:\n",
    "        ans1 = (-b + square**0.5)/4*a*c\n",
    "        ans2 = (-b - square**0.5)/4*a*c\n",
    "        print(ans1,ans2)\n",
    "\n",
    "if __name__ == '__main__':\n",
    "    try:\n",
    "        num1 = int(input('請輸入一個整數'))\n",
    "        num2 = int(input('請輸入一個整數'))\n",
    "        num3 = int(input('請輸入一個整數'))\n",
    "        compute(num1,num2,num3)\n",
    "    except ValueError:\n",
    "        print('請輸入整數')\n",
    "    "
   ]
  },
  {
   "cell_type": "code",
   "execution_count": 42,
   "metadata": {},
   "outputs": [
    {
     "name": "stdout",
     "output_type": "stream",
     "text": [
      "Prime\n"
     ]
    }
   ],
   "source": [
    "# 質數\n",
    "'''\n",
    "設計說明：\n",
    "請撰寫一程式，讓使用者輸入一個整數x，並將x傳遞給名為compute()的函式，此函式將回傳x是否為質數（Prime number）的布林值，接著再將判斷結果輸出。如輸入值為質數顯示【Prime】，否則顯示【Not Prime】。\n",
    "'''\n",
    "def compute(x):\n",
    "    for i in range(2,x):\n",
    "        if x % i == 0 :\n",
    "            print('Not Prime')\n",
    "            break\n",
    "        else:\n",
    "            print('Prime')\n",
    "\n",
    "if __name__ == '__main__':\n",
    "    try:\n",
    "        num = int(input('請輸入一個大於0的整數'))\n",
    "        if num == 1 or 2 :\n",
    "            print('Prime')\n",
    "        elif num > 2 :\n",
    "            compute(num)\n",
    "        else:\n",
    "            print('輸入請大於0')\n",
    "    except ValueError:\n",
    "        print('請輸入有效值')"
   ]
  },
  {
   "cell_type": "code",
   "execution_count": 54,
   "metadata": {},
   "outputs": [
    {
     "name": "stdout",
     "output_type": "stream",
     "text": [
      "1\n"
     ]
    }
   ],
   "source": [
    "# 最大公因數\n",
    "'''\n",
    "設計說明：\n",
    "請撰寫一程式，讓使用者輸入兩個正整數x、y，並將x與y傳遞給名為compute()的函式，此函式回傳x和y的最大公因數。\n",
    "'''\n",
    "import math \n",
    "def compute(x,y):\n",
    "    gcd = math.gcd(x,y)\n",
    "    print(gcd)\n",
    "\n",
    "if __name__ == '__main__':\n",
    "    try:\n",
    "        num1 = int(input('輸入第一個正整數'))\n",
    "        num2 = int(input('輸入第二個正整數'))\n",
    "        compute(num1,num2)\n",
    "    except ValueError:\n",
    "        print('輸入無效')"
   ]
  },
  {
   "cell_type": "code",
   "execution_count": 68,
   "metadata": {},
   "outputs": [
    {
     "name": "stdout",
     "output_type": "stream",
     "text": [
      "2/3 + 5/8 = 31/24\n"
     ]
    }
   ],
   "source": [
    "# 最簡分數\n",
    "'''\n",
    "設計說明：\n",
    "請撰寫一程式，讓使用者輸入二個分數，分別是x/y和m/n（其中x、y、m、n皆為正整數），計算這兩個分數的和為p/q，接著將p和q傳遞給名為compute()函式，此函式回傳p和q的最大公因數（Greatest Common Divisor, GCD）。再將p和q各除以其最大公因數，最後輸出的結果必須以最簡分數表示\n",
    "'''\n",
    "import math\n",
    "\n",
    "def compute():\n",
    "    x, y = map(int,input(\"請輸入兩個以逗號分隔的正整數: \").split(','))\n",
    "    m, n = map(int,input(\"請輸入兩個以逗號分隔的正整數: \").split(','))\n",
    "    q = y*n\n",
    "    p = x*n + y*m\n",
    "    gcd = math.gcd(p,q)\n",
    "    print(f'{x}/{y} + {m}/{n} = {int(p/gcd)}/{int(q/gcd)}')\n",
    "\n",
    "if __name__ == '__main__':\n",
    "    compute()"
   ]
  },
  {
   "cell_type": "code",
   "execution_count": 19,
   "metadata": {},
   "outputs": [
    {
     "name": "stdout",
     "output_type": "stream",
     "text": [
      "0 1 1 2 "
     ]
    }
   ],
   "source": [
    "# 費式數列\n",
    "'''\n",
    "設計說明：\n",
    "請撰寫一程式，計算費氏數列（Fibonacci numbers），使用者輸入一正整數num (num>=2)，並將它傳遞給名為compute()的函式，此函式將輸出費氏數列前num個的數值。\n",
    "提示：費氏數列的某一項數字是其前兩項的和，而且第0項為0，第一項為1，表示方式如下：\n",
    "'''\n",
    "\n",
    "def fibonacci(n):\n",
    "    a,b = 0 ,1 \n",
    "    for _ in range(n):\n",
    "        print(a, end = ' ' )\n",
    "        a , b = b ,a + b\n",
    "\n",
    "if __name__ == '__main__':\n",
    "    try:\n",
    "        num = int(input('請輸入一個正整數'))\n",
    "        fibonacci(num)\n",
    "    except ValueError:\n",
    "        print('請輸入有效值')\n"
   ]
  },
  {
   "cell_type": "code",
   "execution_count": 11,
   "metadata": {},
   "outputs": [
    {
     "name": "stdout",
     "output_type": "stream",
     "text": [
      " 56 45 43\n",
      " 22  3  1\n",
      " 39 20 93\n",
      " 18 44 83\n",
      "278\n"
     ]
    }
   ],
   "source": [
    "# 偶數索引值加總\n",
    "'''\n",
    "設計說明：\n",
    "請撰寫一程式，利用一維串列存放使用者輸入的12個正整數（範圍1~99）。顯示這些數字，接著將串列索引為偶數的數字相加並輸出結果。\n",
    "提示：輸出每一個數字欄寬設定為3，每3個一列，靠右對齊。\n",
    "'''\n",
    "\n",
    "def main():\n",
    "    try:\n",
    "        num_list = []\n",
    "        total = 0\n",
    "        row = 0 \n",
    "        for i in range(12):\n",
    "            num = int(input(f'請輸入第{i+1}個正整數'))\n",
    "            num_list.append(num)\n",
    "            if i%2 == 0 :\n",
    "                total += num_list[i]\n",
    "        for j in num_list:\n",
    "            print(f'{j:>3d}',end='')\n",
    "            row += 1\n",
    "            if row%3 == 0 :\n",
    "                print()\n",
    "                row = 0 \n",
    "        print(total)                \n",
    "    except ValueError:\n",
    "        print('請輸入有效值')\n",
    "\n",
    "main()\n",
    "            "
   ]
  },
  {
   "cell_type": "code",
   "execution_count": 15,
   "metadata": {},
   "outputs": [
    {
     "name": "stdout",
     "output_type": "stream",
     "text": [
      "62\n"
     ]
    }
   ],
   "source": [
    "#撲克牌總和\n",
    "'''\n",
    "設計說明：\n",
    "請撰寫一程式，讓使用者輸入52張牌中的5張，計算並輸出其總和。\n",
    "提示：J、Q、K以及A分別代表11、12、13以及1。\n",
    "'''\n",
    "def poker():\n",
    "    data = {'A':1,'J':11,'Q':12,'K':13,'2':2,'3':3,'4':4,'5':5,'6':6,'7':7,'8':8,'9':9,'10':10}\n",
    "    total = 0\n",
    "    \n",
    "    for i in range(5):\n",
    "        card = str(input(f'請選第{i+1}張牌'))\n",
    "        total += data[card]\n",
    "\n",
    "    print(total)\n",
    "\n",
    "poker()"
   ]
  },
  {
   "cell_type": "code",
   "execution_count": 22,
   "metadata": {},
   "outputs": [
    {
     "name": "stdout",
     "output_type": "stream",
     "text": [
      "57 48 44\n"
     ]
    }
   ],
   "source": [
    "# 數字排序\n",
    "'''\n",
    "設計說明：\n",
    "請撰寫一程式，要求使用者輸入十個數字並存放在串列中。接著由大到小的順序顯示最大的3個數字。\n",
    "'''\n",
    "def main():\n",
    "    try:\n",
    "        num_list = []\n",
    "        for i in range(10):\n",
    "            num = int(input(f'請輸入第{i+1}個正整數'))\n",
    "            num_list.append(num)\n",
    "        \n",
    "        num_list = sorted(num_list)\n",
    "        print(num_list[-1],num_list[-2],num_list[-3])\n",
    "    except ValueError:\n",
    "        print('請輸入有效值')\n",
    "    \n",
    "\n",
    "main()"
   ]
  },
  {
   "cell_type": "code",
   "execution_count": 10,
   "metadata": {},
   "outputs": [
    {
     "name": "stdout",
     "output_type": "stream",
     "text": [
      "10 2\n",
      "20 1\n",
      "30 1\n",
      "40 1\n",
      "50 1\n",
      "60 1\n",
      "70 1\n",
      "80 1\n",
      "90 1\n",
      "眾數是: 10\n",
      "出現次數: 2\n"
     ]
    }
   ],
   "source": [
    "# 眾數\n",
    "'''\n",
    "設計說明：\n",
    "請撰寫一程式，讓使用者輸入十個整數作為樣本數，輸出眾數（樣本中出現最多次的數字）及其出現的次數。\n",
    "提示：假設樣本中只有一個眾數。\n",
    "'''\n",
    "\n",
    "def find_mode():\n",
    "    counts = {}  # 创建一个空字典来存储数字及其出现次数\n",
    "    for i in range(10):  # 循环读取 10 个整数\n",
    "        num = int(input(f\"請輸入第{i+1}個整数：\"))\n",
    "        if num in counts:\n",
    "            counts[num] += 1  # 若数字已存在，增加其计数\n",
    "        else:\n",
    "            counts[num] = 1  # 若数字不存在，初始化计数为 1\n",
    "\n",
    "    # 查找出现次数最多的数字及其次数\n",
    "    mode = None\n",
    "    max_count = 0\n",
    "    for num, count in counts.items():\n",
    "        if count > max_count:\n",
    "            max_count = count\n",
    "            mode = num\n",
    "\n",
    "    print(\"眾數是:\", mode)\n",
    "    print(\"出現次數:\", max_count)\n",
    "\n",
    "if __name__ == \"__main__\":\n",
    "    find_mode()\n",
    "\n"
   ]
  },
  {
   "cell_type": "code",
   "execution_count": 22,
   "metadata": {},
   "outputs": [
    {
     "name": "stdout",
     "output_type": "stream",
     "text": [
      "輸入值無效\n"
     ]
    }
   ],
   "source": [
    "# 成績計算\n",
    "'''\n",
    "設計說明：\n",
    "請撰寫一程式，讓使用者輸入十個成績，接下來將十個成績中最小和最大值（最小、最大值不重複）以外的成績作加總及平均，並輸出結果。\n",
    "提示：平均值輸出到小數點後第二位。\n",
    "'''\n",
    "def score():\n",
    "    score_list = []\n",
    "    try:\n",
    "        for i in range(10):\n",
    "            num = int(input(f'請輸入第{i+1}個成績'))\n",
    "            score_list.append(num)\n",
    "\n",
    "        max_num = max(score_list)\n",
    "        min_num = min(score_list)\n",
    "\n",
    "        score_list.remove(max_num)\n",
    "        score_list.remove(min_num)\n",
    "        \n",
    "        total = sum(score_list)\n",
    "        avg = round(total/len(score_list),2)\n",
    "        \n",
    "        print(total)\n",
    "        print(avg)\n",
    "    except ValueError:\n",
    "        print('輸入值無效')\n",
    "\n",
    "if __name__ == '__main__':\n",
    "    score()"
   ]
  },
  {
   "cell_type": "code",
   "execution_count": 15,
   "metadata": {},
   "outputs": [
    {
     "name": "stdout",
     "output_type": "stream",
     "text": [
      "   0   1   2   3   4   5   6   7   8   9\n",
      "  -1   0   1   2   3   4   5   6   7   8\n",
      "  -2  -1   0   1   2   3   4   5   6   7\n",
      "  -3  -2  -1   0   1   2   3   4   5   6\n",
      "  -4  -3  -2  -1   0   1   2   3   4   5\n"
     ]
    }
   ],
   "source": [
    "# 二維串列行列數\n",
    "'''\n",
    "設計說明：\n",
    "請撰寫一程式，讓使用者輸入兩個正整數rows、cols，分別表示二維串列lst 的「第一個維度大小」與「第二個維度大小」。\n",
    "串列元素[row][col]所儲存的數字，其規則為：row、col 的交點值 = 第二個維度的索引col – 第一個維度的索引row。\n",
    "接著以該串列作為參數呼叫函式compute()輸出串列。\n",
    "提示：欄寬為4。\n",
    "'''\n",
    "\n",
    "def compute():\n",
    "    try:\n",
    "        row = int(input('第一維度大小'))\n",
    "        col = int(input('第二維度大小'))\n",
    "        for i in range(row):\n",
    "            for j in range(col):\n",
    "                print(f'{j-i:>4d}',end='')\n",
    "            print()\n",
    "    except ValueError:\n",
    "        print('請輸入有效值')\n",
    "\n",
    "if __name__ == '__main__':\n",
    "    compute()"
   ]
  },
  {
   "cell_type": "code",
   "execution_count": 8,
   "metadata": {},
   "outputs": [
    {
     "name": "stdout",
     "output_type": "stream",
     "text": [
      "The 1st student:\n",
      "The 2nd student:\n",
      "The 3rd student:\n",
      "Student  1\n",
      "#Sum 138\n",
      "#Average 27.60\n",
      "Student  2\n",
      "#Sum 401\n",
      "#Average 80.20\n",
      "Student  3\n",
      "#Sum 465\n",
      "#Average 93.00\n"
     ]
    }
   ],
   "source": [
    "# 成績計算\n",
    "\n",
    "'''\n",
    "設計說明：\n",
    "請撰寫一程式，讓使用者輸入三位學生各五筆成績，接著再計算並輸出每位學生的總分及平均分數。\n",
    "提示：平均分數輸出到小數點後第二位\n",
    "'''\n",
    "\n",
    "def scores():\n",
    "    n=[\"1st\",\"2nd\",\"3rd\"]\n",
    "    t=[[0 for j in range(5)] for i in range(3)]\n",
    "\n",
    "    for i in range(3):\n",
    "        print(\"The {} student:\".format(n[i]))\n",
    "        for j in range(5):\n",
    "            t[i][j]=int(input(f'請輸入第{j+1}筆分數'))\n",
    "    \n",
    "    for i in range(3):\n",
    "        print(\"Student %d\"%(i+1))\n",
    "        print(\"#Sum %d\"%(sum(t[i])))\n",
    "        print(\"#Average %.2f\"%(sum(t[i])/5))\n",
    "\n",
    "if __name__ == '__main__':\n",
    "    try:\n",
    "        scores()\n",
    "    except ValueError:\n",
    "        print('請輸入有效值')\n"
   ]
  },
  {
   "cell_type": "code",
   "execution_count": 22,
   "metadata": {},
   "outputs": [
    {
     "name": "stdout",
     "output_type": "stream",
     "text": [
      "Index of the largest number 49 is (2, 1)\n",
      "Index of the smallest number -3 is (2, 0)\n"
     ]
    }
   ],
   "source": [
    "# 最大最小值索引\n",
    "'''\n",
    "設計說明：\n",
    "請撰寫一程式，讓使用者建立一個3*3的矩陣，其內容為從鍵盤輸入的整數（不重複），接著輸出矩陣最大值與最小值的索引。\n",
    "\n",
    "'''\n",
    "import numpy as np\n",
    "\n",
    "matrix = [[0 for _ in range(3)]for _ in range(3)]\n",
    "for i in range(3):\n",
    "    for j in range(3):\n",
    "        matrix[i][j] = int(input('請輸入整數'))\n",
    "array = np.array(matrix)\n",
    "max_value , min_value = np.max(array) , np.min(array)\n",
    "max_index , min_index = np.argmax(array) , np.argmin(array) # 找到最大值,最小值的索引\n",
    "max_index , min_index = np.unravel_index(max_index,array.shape) , np.unravel_index(min_index,array.shape)\n",
    "print(f'Index of the largest number {max_value} is {max_index}')\n",
    "print(f'Index of the smallest number {min_value} is {min_index}')"
   ]
  },
  {
   "cell_type": "code",
   "execution_count": 40,
   "metadata": {},
   "outputs": [
    {
     "name": "stdout",
     "output_type": "stream",
     "text": [
      "Enter matrix 1:\n",
      "[1,1]:3.0\n",
      "[1,2]:5.0\n",
      "[2,1]:7.0\n",
      "[2,2]:5.0\n",
      "\n",
      "Enter matrix 2:\n",
      "[1,1]:6.0\n",
      "[1,2]:9.0\n",
      "[2,1]:3.0\n",
      "[2,2]:8.0\n",
      "\n",
      "Sum of 2 matrices:\n",
      "[[ 9. 14.]\n",
      " [10. 13.]]\n"
     ]
    }
   ],
   "source": [
    "# 矩陣相加\n",
    "'''\n",
    "設計說明：\n",
    "請撰寫一程式，讓使用者建立兩個2*2的矩陣，其內容為從鍵盤輸入的整數，接著輸出這兩個矩陣的內容以及它們相加的結果。\n",
    "'''\n",
    "import numpy as np \n",
    "\n",
    "m1,m2 = np.zeros((2,2)),np.zeros((2,2))\n",
    "\n",
    "print('Enter matrix 1:')\n",
    "for i in range(2):\n",
    "    for j in range(2):\n",
    "        m1[i][j] = int(input('請輸入第一個矩陣整數'))\n",
    "        print(f'[{i+1},{j+1}]:{m1[i][j]}')\n",
    "print()\n",
    "\n",
    "print('Enter matrix 2:')\n",
    "for i in range(2):\n",
    "    for j in range(2):\n",
    "        m2[i][j] = int(input('請輸入第二個矩陣整數'))\n",
    "        print(f'[{i+1},{j+1}]:{m2[i][j]}')\n",
    "print()\n",
    "\n",
    "mix = m1 + m2 \n",
    "\n",
    "print('Sum of 2 matrices:')\n",
    "print(mix)\n"
   ]
  },
  {
   "cell_type": "code",
   "execution_count": 44,
   "metadata": {},
   "outputs": [
    {
     "name": "stdout",
     "output_type": "stream",
     "text": [
      "Week 1:\n",
      "Day 1:23.1\n",
      "Day 2:24.0\n",
      "Day 3:23.5\n",
      "Week 2:\n",
      "Day 1:32.0\n",
      "Day 2:33.0\n",
      "Day 3:35.3\n",
      "Week 3:\n",
      "Day 1:29.0\n",
      "Day 2:30.0\n",
      "Day 3:26.0\n",
      "Week 4:\n",
      "Day 1:27.6\n",
      "Day 2:25.0\n",
      "Day 3:28.8\n",
      "Average:  28.11\n",
      "Highest:  35.3\n",
      "Lowest:  23.1\n"
     ]
    }
   ],
   "source": [
    "# 平均溫度\n",
    "'''\n",
    "設計說明：\n",
    "請撰寫一程式，讓使用者輸入四週各三天的溫度，接著計算並輸出這四週的平均溫度及最高、最低溫度。\n",
    "提示1：平均溫度輸出到小數點後第二位。\n",
    "提示2：最高溫度及最低溫度的輸出，如為31時，則輸出31，如為31.1時，則輸出31.1。\n",
    "'''\n",
    "temp_list = []\n",
    "for i in range(4):\n",
    "    print(f'Week {i+1}:')\n",
    "    for j in range(3):\n",
    "        temp = float(input('請輸入溫度'))\n",
    "        temp_list.append(temp)\n",
    "        print(f'Day {j+1}:{temp}')\n",
    "\n",
    "print('Average: ',round(sum(temp_list)/len(temp_list),2))\n",
    "print('Highest: ',max(temp_list))\n",
    "print('Lowest: ',min(temp_list))\n"
   ]
  }
 ],
 "metadata": {
  "kernelspec": {
   "display_name": "py311",
   "language": "python",
   "name": "python3"
  },
  "language_info": {
   "codemirror_mode": {
    "name": "ipython",
    "version": 3
   },
   "file_extension": ".py",
   "mimetype": "text/x-python",
   "name": "python",
   "nbconvert_exporter": "python",
   "pygments_lexer": "ipython3",
   "version": "3.11.7"
  }
 },
 "nbformat": 4,
 "nbformat_minor": 2
}
