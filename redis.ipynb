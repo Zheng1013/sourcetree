{
 "cells": [
  {
   "cell_type": "code",
   "execution_count": 7,
   "metadata": {},
   "outputs": [
    {
     "name": "stdout",
     "output_type": "stream",
     "text": [
      "['a6', 'name_2', 'a4', 'foo', 'name_1', 'name_4', 'a9', 'a1', 'num_2', 'user', 'a8', 'a5', 'a2', 'a3', 'a7', 'name_5']\n",
      "['Zarten_1', 'Zarten_2']\n",
      "['Zarten_1', 'Zarten_2']\n",
      "hi\n",
      "8\n",
      "1\n",
      "2 hi\n",
      "3\n",
      "4.0\n",
      "29\n",
      "5\n",
      "6\n"
     ]
    }
   ],
   "source": [
    "import redis\n",
    "\n",
    "r = redis.Redis(host='localhost',port=6379,db=0,decode_responses=True)\n",
    "\n",
    "name_dict={\n",
    "    'name_1':'Zarten_1',\n",
    "    'name_2':'Zarten_2'\n",
    "}\n",
    "\n",
    "r.mset(name_dict)\n",
    "\n",
    "\n",
    "\n",
    "print(r.keys())\n",
    "print(r.mget('name_1','name_2'))\n",
    "print(r.mget(['name_1','name_2']))\n",
    "\n",
    "r.getset('name_1','hi')\n",
    "\n",
    "print(r.get('name_1'))\n",
    "\n",
    "length = r.setrange('name_2',1,'zhihu')\n",
    "print(length)\n",
    "\n",
    "v = r.setrange('name_4',0,2)\n",
    "print(v)\n",
    "print(r.strlen('name_1'),r.get('name_1'))\n",
    "\n",
    "r.set('num_2',2)\n",
    "\n",
    "v = r.incr('num_2')\n",
    "print(v)\n",
    "v = r.incrbyfloat('num_2')\n",
    "print(v)\n",
    "\n",
    "v = r.append('name_5',666)\n",
    "print(v)\n",
    "\n",
    "v = r.lpush('Zarten',1,2,3,4,5)\n",
    "print(v)\n",
    "\n",
    "v = r.lpush('Zarten',6)\n",
    "print(v)"
   ]
  },
  {
   "cell_type": "code",
   "execution_count": 13,
   "metadata": {},
   "outputs": [
    {
     "name": "stdout",
     "output_type": "stream",
     "text": [
      "['1', '123']\n",
      "10\n",
      "(0, {'age': '10', 'sex': '1', 'tex': '123'})\n",
      "<class 'tuple'> ('age', '10')\n",
      "<class 'tuple'> ('sex', '1')\n",
      "<class 'tuple'> ('tex', '123')\n"
     ]
    },
    {
     "name": "stderr",
     "output_type": "stream",
     "text": [
      "C:\\Users\\love2\\AppData\\Local\\Temp\\ipykernel_7816\\2111289294.py:4: DeprecationWarning: Redis.hmset() is deprecated. Use Redis.hset() instead.\n",
      "  r.hmset('Zarten',{'sex':1,'tex':'123'})\n"
     ]
    }
   ],
   "source": [
    "r = redis.Redis(host='localhost',port=6379,db=1,decode_responses=True)\n",
    "\n",
    "r.hset('Zarten','age',10)\n",
    "r.hmset('Zarten',{'sex':1,'tex':'123'})\n",
    "\n",
    "v = r.hmget('Zarten',['sex','tex'])\n",
    "print(v)\n",
    "a = r.hget('Zarten','age')\n",
    "print(a)\n",
    "\n",
    "v = r.hscan('Zarten')\n",
    "print(v)\n",
    "\n",
    "v = r.hscan_iter('Zarten')\n",
    "for i in v :\n",
    "    print(type(i),i)"
   ]
  },
  {
   "cell_type": "code",
   "execution_count": 21,
   "metadata": {},
   "outputs": [
    {
     "name": "stdout",
     "output_type": "stream",
     "text": [
      "0\n",
      "4\n",
      "{'b', 'c', 'apple', 'a'}\n",
      "a\n",
      "0\n"
     ]
    }
   ],
   "source": [
    "v = r.sadd('Zarten_1','apple','a','b','c')\n",
    "print(v)\n",
    "\n",
    "v = r.scard('Zarten_1')\n",
    "print(v)\n",
    "\n",
    "v = r.smembers('Zarten_1')\n",
    "print(v)\n",
    "\n",
    "v = r.srandmember('Zarten_1')\n",
    "print(v)\n",
    "\n",
    "v = r.sismember('Zarten_1','app1')\n",
    "print(v)"
   ]
  },
  {
   "cell_type": "code",
   "execution_count": 26,
   "metadata": {},
   "outputs": [
    {
     "name": "stdout",
     "output_type": "stream",
     "text": [
      "0\n"
     ]
    },
    {
     "ename": "TypeError",
     "evalue": "SortedSetCommands.zadd() got an unexpected keyword argument 'c'",
     "output_type": "error",
     "traceback": [
      "\u001b[1;31m---------------------------------------------------------------------------\u001b[0m",
      "\u001b[1;31mTypeError\u001b[0m                                 Traceback (most recent call last)",
      "Cell \u001b[1;32mIn[26], line 4\u001b[0m\n\u001b[0;32m      1\u001b[0m v \u001b[38;5;241m=\u001b[39m r\u001b[38;5;241m.\u001b[39mzadd(\u001b[38;5;124m'\u001b[39m\u001b[38;5;124mZarten_m\u001b[39m\u001b[38;5;124m'\u001b[39m,{\u001b[38;5;124m'\u001b[39m\u001b[38;5;124ma\u001b[39m\u001b[38;5;124m'\u001b[39m:\u001b[38;5;241m3\u001b[39m,\u001b[38;5;124m'\u001b[39m\u001b[38;5;124mb\u001b[39m\u001b[38;5;124m'\u001b[39m:\u001b[38;5;241m4\u001b[39m})\n\u001b[0;32m      2\u001b[0m \u001b[38;5;28mprint\u001b[39m(v)\n\u001b[1;32m----> 4\u001b[0m v \u001b[38;5;241m=\u001b[39m \u001b[43mr\u001b[49m\u001b[38;5;241;43m.\u001b[39;49m\u001b[43mzadd\u001b[49m\u001b[43m(\u001b[49m\u001b[38;5;124;43m'\u001b[39;49m\u001b[38;5;124;43mZarten\u001b[39;49m\u001b[38;5;124;43m'\u001b[39;49m\u001b[43m,\u001b[49m\u001b[43mc\u001b[49m\u001b[38;5;241;43m=\u001b[39;49m\u001b[38;5;241;43m5\u001b[39;49m\u001b[43m,\u001b[49m\u001b[43md\u001b[49m\u001b[38;5;241;43m=\u001b[39;49m\u001b[38;5;241;43m6\u001b[39;49m\u001b[43m)\u001b[49m\n\u001b[0;32m      5\u001b[0m \u001b[38;5;28mprint\u001b[39m(v)\n",
      "\u001b[1;31mTypeError\u001b[0m: SortedSetCommands.zadd() got an unexpected keyword argument 'c'"
     ]
    }
   ],
   "source": [
    "v = r.zadd('Zarten_m',{'a':3,'b':4})\n",
    "print(v)\n",
    "\n",
    "v = r.zadd('Zarten',c=5,d=6)\n",
    "print(v)"
   ]
  },
  {
   "cell_type": "code",
   "execution_count": 36,
   "metadata": {},
   "outputs": [
    {
     "name": "stderr",
     "output_type": "stream",
     "text": [
      "C:\\Users\\love2\\AppData\\Local\\Temp\\ipykernel_7816\\599907332.py:16: DeprecationWarning: Redis.hmset() is deprecated. Use Redis.hset() instead.\n",
      "  r.hmset(f'hash_{num}',data)\n"
     ]
    }
   ],
   "source": [
    "import redis\n",
    "import os\n",
    "import json \n",
    "\n",
    "r = redis.Redis(host='localhost',port=6379,db=2,decode_responses=True)\n",
    "\n",
    "folder_path = './data'\n",
    "num = 1 \n",
    "\n",
    "for filename in os.listdir(folder_path):\n",
    "    if filename.endswith('.json'):\n",
    "        file_path = os.path.join(folder_path,filename)\n",
    "        \n",
    "        with open(file_path,'r') as file :\n",
    "            data = json.load(file)\n",
    "        r.hmset(f'hash_{num}',data)\n",
    "        num += 1 \n",
    "\n"
   ]
  },
  {
   "cell_type": "code",
   "execution_count": 40,
   "metadata": {},
   "outputs": [
    {
     "name": "stdout",
     "output_type": "stream",
     "text": [
      "{\"Pm25\": \"6\", \"Pm10\": \"21\", \"O3\": \"0\", \"Co2\": \"1.3\", \"Temperature\": 26, \"Humidity\": 75}\n",
      "{'Pm25': '6', 'Pm10': '21', 'O3': '0', 'Co2': '1.3', 'Temperature': '26', 'Humidity': '75'}\n"
     ]
    }
   ],
   "source": [
    "s = r.get('data_5')\n",
    "print(s)\n",
    "\n",
    "v = r.hgetall('hash_5')\n",
    "print(v)"
   ]
  },
  {
   "cell_type": "code",
   "execution_count": 45,
   "metadata": {},
   "outputs": [
    {
     "data": {
      "text/html": [
       "<div>\n",
       "<style scoped>\n",
       "    .dataframe tbody tr th:only-of-type {\n",
       "        vertical-align: middle;\n",
       "    }\n",
       "\n",
       "    .dataframe tbody tr th {\n",
       "        vertical-align: top;\n",
       "    }\n",
       "\n",
       "    .dataframe thead th {\n",
       "        text-align: right;\n",
       "    }\n",
       "</style>\n",
       "<table border=\"1\" class=\"dataframe\">\n",
       "  <thead>\n",
       "    <tr style=\"text-align: right;\">\n",
       "      <th></th>\n",
       "      <th>time</th>\n",
       "      <th>gateway</th>\n",
       "      <th>direction</th>\n",
       "      <th>model</th>\n",
       "      <th>volume</th>\n",
       "    </tr>\n",
       "  </thead>\n",
       "  <tbody>\n",
       "    <tr>\n",
       "      <th>0</th>\n",
       "      <td>2023-11-21 08:00</td>\n",
       "      <td>01F0005N</td>\n",
       "      <td>N</td>\n",
       "      <td>31</td>\n",
       "      <td>98</td>\n",
       "    </tr>\n",
       "    <tr>\n",
       "      <th>1</th>\n",
       "      <td>2023-11-21 08:00</td>\n",
       "      <td>01F0005N</td>\n",
       "      <td>N</td>\n",
       "      <td>32</td>\n",
       "      <td>28</td>\n",
       "    </tr>\n",
       "    <tr>\n",
       "      <th>2</th>\n",
       "      <td>2023-11-21 08:00</td>\n",
       "      <td>01F0005N</td>\n",
       "      <td>N</td>\n",
       "      <td>41</td>\n",
       "      <td>5</td>\n",
       "    </tr>\n",
       "    <tr>\n",
       "      <th>3</th>\n",
       "      <td>2023-11-21 08:00</td>\n",
       "      <td>01F0005N</td>\n",
       "      <td>N</td>\n",
       "      <td>42</td>\n",
       "      <td>2</td>\n",
       "    </tr>\n",
       "    <tr>\n",
       "      <th>4</th>\n",
       "      <td>2023-11-21 08:00</td>\n",
       "      <td>01F0005N</td>\n",
       "      <td>N</td>\n",
       "      <td>5</td>\n",
       "      <td>0</td>\n",
       "    </tr>\n",
       "    <tr>\n",
       "      <th>...</th>\n",
       "      <td>...</td>\n",
       "      <td>...</td>\n",
       "      <td>...</td>\n",
       "      <td>...</td>\n",
       "      <td>...</td>\n",
       "    </tr>\n",
       "    <tr>\n",
       "      <th>1690</th>\n",
       "      <td>2023-11-21 08:00</td>\n",
       "      <td>05FR143N</td>\n",
       "      <td>N</td>\n",
       "      <td>31</td>\n",
       "      <td>35</td>\n",
       "    </tr>\n",
       "    <tr>\n",
       "      <th>1691</th>\n",
       "      <td>2023-11-21 08:00</td>\n",
       "      <td>05FR143N</td>\n",
       "      <td>N</td>\n",
       "      <td>32</td>\n",
       "      <td>10</td>\n",
       "    </tr>\n",
       "    <tr>\n",
       "      <th>1692</th>\n",
       "      <td>2023-11-21 08:00</td>\n",
       "      <td>05FR143N</td>\n",
       "      <td>N</td>\n",
       "      <td>41</td>\n",
       "      <td>0</td>\n",
       "    </tr>\n",
       "    <tr>\n",
       "      <th>1693</th>\n",
       "      <td>2023-11-21 08:00</td>\n",
       "      <td>05FR143N</td>\n",
       "      <td>N</td>\n",
       "      <td>42</td>\n",
       "      <td>1</td>\n",
       "    </tr>\n",
       "    <tr>\n",
       "      <th>1694</th>\n",
       "      <td>2023-11-21 08:00</td>\n",
       "      <td>05FR143N</td>\n",
       "      <td>N</td>\n",
       "      <td>5</td>\n",
       "      <td>2</td>\n",
       "    </tr>\n",
       "  </tbody>\n",
       "</table>\n",
       "<p>1695 rows × 5 columns</p>\n",
       "</div>"
      ],
      "text/plain": [
       "                  time   gateway direction  model  volume\n",
       "0     2023-11-21 08:00  01F0005N         N     31      98\n",
       "1     2023-11-21 08:00  01F0005N         N     32      28\n",
       "2     2023-11-21 08:00  01F0005N         N     41       5\n",
       "3     2023-11-21 08:00  01F0005N         N     42       2\n",
       "4     2023-11-21 08:00  01F0005N         N      5       0\n",
       "...                ...       ...       ...    ...     ...\n",
       "1690  2023-11-21 08:00  05FR143N         N     31      35\n",
       "1691  2023-11-21 08:00  05FR143N         N     32      10\n",
       "1692  2023-11-21 08:00  05FR143N         N     41       0\n",
       "1693  2023-11-21 08:00  05FR143N         N     42       1\n",
       "1694  2023-11-21 08:00  05FR143N         N      5       2\n",
       "\n",
       "[1695 rows x 5 columns]"
      ]
     },
     "execution_count": 45,
     "metadata": {},
     "output_type": "execute_result"
    }
   ],
   "source": [
    "import pandas as pd \n",
    "\n",
    "df = pd.read_csv('./data/TDCS_M03A_20231121_080000.csv',header=None)\n",
    "df.columns = ['time','gateway','direction','model','volume']\n",
    "df"
   ]
  },
  {
   "cell_type": "code",
   "execution_count": 46,
   "metadata": {},
   "outputs": [
    {
     "name": "stdout",
     "output_type": "stream",
     "text": [
      "    A   B   C\n",
      "0  10  40  70\n",
      "1  20  50  80\n",
      "2  30  60  90\n"
     ]
    }
   ],
   "source": [
    "data = {\n",
    "    'A': [1, 2, 3],\n",
    "    'B': [4, 5, 6],\n",
    "    'C': [7, 8, 9]\n",
    "}\n",
    "df = pd.DataFrame(data)\n",
    "\n",
    "def multiply(column, factor):\n",
    "    return column * factor\n",
    "\n",
    "result = df.apply(multiply, args=(10,))\n",
    "print(result)"
   ]
  }
 ],
 "metadata": {
  "kernelspec": {
   "display_name": "python39",
   "language": "python",
   "name": "python3"
  },
  "language_info": {
   "codemirror_mode": {
    "name": "ipython",
    "version": 3
   },
   "file_extension": ".py",
   "mimetype": "text/x-python",
   "name": "python",
   "nbconvert_exporter": "python",
   "pygments_lexer": "ipython3",
   "version": "3.11.7"
  }
 },
 "nbformat": 4,
 "nbformat_minor": 2
}
