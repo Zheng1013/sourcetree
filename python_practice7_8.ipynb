{
 "cells": [
  {
   "cell_type": "code",
   "execution_count": 7,
   "metadata": {},
   "outputs": [
    {
     "name": "stdout",
     "output_type": "stream",
     "text": [
      "(-4, 0, 37, 19, 26, -43, 9)\n",
      "Length:7\n",
      "Max: 37\n",
      "Min: -43\n",
      "Sum: 44\n"
     ]
    }
   ],
   "source": [
    "# 串列數組轉換\n",
    "'''\n",
    "設計說明：\n",
    "請撰寫一程式，輸入數個整數並儲存至串列中，以輸入-9999為結束點（串列中不包含-9999），再將此串列轉換成數組，最後顯示該數組以及其長度（Length）、最大值（Max）、最小值（Min）、總和（Sum）。\n",
    "'''\n",
    "\n",
    "t1 = []\n",
    "while True:\n",
    "    try:\n",
    "        num = int(input('請輸入整數'))\n",
    "        if num == -9999:\n",
    "            t1 = tuple(t1)\n",
    "            print(t1)\n",
    "            print(f'Length:{len(t1)}')\n",
    "            print(f'Max: {max(t1)}')\n",
    "            print(f'Min: {min(t1)}')\n",
    "            print(f'Sum: {sum(t1)}')\n",
    "            break\n",
    "        else:\n",
    "            t1.append(num)\n",
    "    except ValueError:\n",
    "        print('請輸入有效值')\n",
    "\n",
    "\n"
   ]
  },
  {
   "cell_type": "code",
   "execution_count": 30,
   "metadata": {},
   "outputs": [
    {
     "name": "stdout",
     "output_type": "stream",
     "text": [
      "Create tuple1:\n",
      "[9, 0, -1, 3, 8]\n",
      "Create tuple2:\n",
      "[28, 16, 39, 56, 78, 88]\n",
      "Combined tuple before sorting :(9, 0, -1, 3, 8, 28, 16, 39, 56, 78, 88)\n",
      "Combined list after sorting :[-1, 0, 3, 8, 9, 16, 28, 39, 56, 78, 88]\n"
     ]
    }
   ],
   "source": [
    "# 數組合併排序\n",
    "'''\n",
    "設計說明：\n",
    "請撰寫一程式，輸入並建立兩組數組，各以-9999為結束點（數組中不包含-9999）。將此兩數組合併並從小到大排序之，顯示排序前的數組和排序後的串列\n",
    "'''\n",
    "t1 , t2 = [] , []\n",
    "\n",
    "print('Create tuple1:')\n",
    "while True : \n",
    "    num1 = int(input('請輸入'))\n",
    "    if num1 == -9999:\n",
    "        print(t1)\n",
    "        break\n",
    "    else:\n",
    "        t1.append(num1)\n",
    "\n",
    "print('Create tuple2:')\n",
    "while True : \n",
    "    num2 = int(input('請輸入'))\n",
    "    if num2 == -9999:\n",
    "        print(t2)\n",
    "        break\n",
    "    else:\n",
    "        t2.append(num2)\n",
    "t1 = tuple(t1)\n",
    "t2 = tuple(t2)\n",
    "lst = list(t1+t2)\n",
    "lst.sort()\n",
    "\n",
    "print(f'Combined tuple before sorting :{t1+t2}')\n",
    "print(f'Combined list after sorting :{lst}')\n",
    "\n"
   ]
  },
  {
   "cell_type": "code",
   "execution_count": 34,
   "metadata": {},
   "outputs": [
    {
     "name": "stdout",
     "output_type": "stream",
     "text": [
      "('president', 'dean', 'chair', 'staff', 'teacher', 'student')\n",
      "('president', 'dean', 'chair')\n",
      "('staff', 'teacher', 'student')\n"
     ]
    }
   ],
   "source": [
    "# 數組條件判斷\n",
    "'''\n",
    "設計說明：\n",
    "請撰寫一程式，輸入一些字串至數組（至少輸入五個字串），以字串\"end\"為結束點（數組中不包含字串\"end\"）。接著輸出該數組，再分別顯示該數組的第一個元素到第三個元素和倒數三個元素。\n",
    "'''\n",
    "\n",
    "word = []\n",
    "while True :\n",
    "    vocabulary = str(input('請輸入字串最少五個'))\n",
    "    if vocabulary == 'end' and len(word) >= 5 :\n",
    "        print(tuple(word))\n",
    "        print(tuple(word)[:3])\n",
    "        print(tuple(word)[-3:])\n",
    "        break\n",
    "    elif vocabulary == 'end' and len(word) < 5:\n",
    "        print('最少輸入五個字串')\n",
    "        break\n",
    "    else:\n",
    "        word.append(vocabulary)"
   ]
  },
  {
   "cell_type": "code",
   "execution_count": 35,
   "metadata": {},
   "outputs": [
    {
     "name": "stdout",
     "output_type": "stream",
     "text": [
      "Length:6\n",
      "Max:34\n",
      "Min:-23\n",
      "Sum:46\n"
     ]
    }
   ],
   "source": [
    "# 集合條件判斷\n",
    "'''\n",
    "設計說明：\n",
    "請撰寫一程式，輸入數個整數並儲存至集合，以輸入-9999為結束點（集合中不包含-9999），最後顯示該集合的長度（Length）、最大值（Max）、最小值（Min）、總和（Sum）。\n",
    "'''\n",
    "s1 = set()\n",
    "while True :\n",
    "    num = int(input('請輸入整數,輸入為-9999時結束'))\n",
    "    if num == -9999:\n",
    "        print(f'Length: {len(s1)}')\n",
    "        print(f'Max: {max(s1)}')\n",
    "        print(f'Min: {min(s1)}')\n",
    "        print(f'Sum: {sum(s1)}')\n",
    "        break\n",
    "    else:\n",
    "        s1.add(num)"
   ]
  },
  {
   "cell_type": "code",
   "execution_count": 37,
   "metadata": {},
   "outputs": [
    {
     "name": "stdout",
     "output_type": "stream",
     "text": [
      "set2 is subset of set1 False\n",
      "set3 is superset of set1 True\n"
     ]
    }
   ],
   "source": [
    "# 子集合與超集合\n",
    "'''\n",
    "設計說明：\n",
    "請撰寫一程式，依序輸入五個、三個、九個整數，並各自儲存到集合set1、set2、set3中。接著回答：set2是否為set1的子集合（subset）？set3是否為set1的超集合（superset）？\n",
    "'''\n",
    "\n",
    "def create_set(count):\n",
    "    try : \n",
    "        nums_set = set()\n",
    "        for _ in range(count):\n",
    "            num = int(input('請輸入整數'))\n",
    "            nums_set.add(num)\n",
    "        return nums_set\n",
    "    except ValueError :\n",
    "        print('輸入值無效!')\n",
    "\n",
    "if __name__ == '__main__':\n",
    "    s1 = create_set(5)\n",
    "    s2 = create_set(3)\n",
    "    s3 = create_set(9)\n",
    "    print('set2 is subset of set1', s2.issubset(s1))\n",
    "    print('set3 is superset of set1',s3.issuperset(s1))\n"
   ]
  },
  {
   "cell_type": "code",
   "execution_count": 9,
   "metadata": {},
   "outputs": [
    {
     "name": "stdout",
     "output_type": "stream",
     "text": [
      "檢測句子:learning python is funny\n",
      "結果:False\n"
     ]
    }
   ],
   "source": [
    "# 全字母句\n",
    "'''\n",
    "設計說明：\n",
    "全字母句（Pangram）是英文字母表所有的字母都出現至少一次（最好只出現一次）的句子。請撰寫一程式，要求使用者輸入一正整數k（代表有k筆測試資料），每一筆測試資料為一句子，程式判斷該句子是否為Pangram，並印出對應結果True（若是）或False（若不是）。\n",
    "提示：不區分大小寫字母\n",
    "'''\n",
    "import string\n",
    "\n",
    "def pangram(count):\n",
    "    alphabet = string.ascii_lowercase\n",
    "    for _ in range(count):\n",
    "        conversation = str(input('請輸入一段句子')).lower()\n",
    "        print(f'檢測句子:{conversation}')\n",
    "        conversation = set(conversation)\n",
    "        print(f'結果:{conversation.issuperset(alphabet)}')\n",
    "\n",
    "if __name__ == '__main__':\n",
    "    try:\n",
    "        count = int(input('請輸入要檢測幾筆資料'))\n",
    "        pangram(count)\n",
    "    except ValueError:\n",
    "        print('請輸入有效值') \n",
    "\n"
   ]
  },
  {
   "cell_type": "code",
   "execution_count": 14,
   "metadata": {},
   "outputs": [
    {
     "name": "stdout",
     "output_type": "stream",
     "text": [
      "Enter group X's subjects\n",
      "Enter group Y's subjects\n",
      "['Chemistry', 'Chinese', 'English', 'Geography', 'History', 'Literature', 'Math', 'Physical']\n",
      "['Literature', 'Math']\n",
      "['Chemistry', 'Chinese', 'Physical']\n",
      "['Chemistry', 'Chinese', 'English', 'Geography', 'History', 'Physical']\n"
     ]
    }
   ],
   "source": [
    "# 共同科目\n",
    "'''\n",
    "設計說明：\n",
    "請撰寫一程式，輸入X組和Y組各自的科目至集合中，以字串\"end\"作為結束點（集合中不包含字串\"end\"）。請依序分行顯示(1) X組和Y組的所有科目、(2)X組和Y組的共同科目、(3)Y組有但X組沒有的科目，以及(4) X組和Y組彼此沒有的科目（不包含相同科目）。\n",
    "提示：科目須參考範例輸出樣本，依字母由小至大進行排序。\n",
    "'''\n",
    "def subjects():\n",
    "    x = set()\n",
    "    y = set()\n",
    "    print('Enter group X\\'s subjects')\n",
    "    while True :\n",
    "        subject = str(input('請輸入科目'))\n",
    "        if subject == 'end':\n",
    "            break\n",
    "        else:\n",
    "            x.add(subject.capitalize())\n",
    "\n",
    "    print('Enter group Y\\'s subjects')\n",
    "    while True :\n",
    "        subject = str(input('請輸入科目'))\n",
    "        if subject == 'end':\n",
    "            break\n",
    "        else:\n",
    "            y.add(subject.capitalize())  \n",
    "\n",
    "    print(sorted(x | y))\n",
    "    print(sorted(x & y))\n",
    "    print(sorted(y - x))\n",
    "    print(sorted(x ^ y))\n",
    "\n",
    "\n",
    "\n",
    "subjects()"
   ]
  },
  {
   "cell_type": "code",
   "execution_count": 4,
   "metadata": {},
   "outputs": [
    {
     "name": "stdout",
     "output_type": "stream",
     "text": [
      "Create dict1:\n",
      "Key:end\n",
      "Create dict2:\n",
      "Key:end\n",
      "a:apple\n",
      "b:banana\n",
      "c:cat\n",
      "d:durian\n",
      "e:elephant\n"
     ]
    }
   ],
   "source": [
    "# 詞典合併\n",
    "'''\n",
    "設計說明：\n",
    "請撰寫一程式，自行輸入兩個詞典（以輸入鍵值\"end\"作為輸入結束點，詞典中將不包含鍵值\"end\"），將此兩詞典合併，並根據key值字母由小到大排序輸出，如有重複key值，後輸入的key值將覆蓋前一key值。\n",
    "'''\n",
    "\n",
    "dict1 = dict()\n",
    "dict2 = dict()\n",
    "\n",
    "print('Create dict1:')\n",
    "while True :\n",
    "    key = str(input('請輸入鍵'))\n",
    "    if key == 'end':\n",
    "        print(f'Key:{key}')\n",
    "        break\n",
    "    else:\n",
    "        value = str(input('請輸入值'))\n",
    "        dict1[key] = value\n",
    "        # print(f'Key:{key}')\n",
    "        # print(f'Value:{value}')\n",
    " \n",
    "print('Create dict2:')\n",
    "while True :\n",
    "    key = str(input('請輸入鍵'))\n",
    "    if key == 'end':\n",
    "        print(f'Key:{key}')\n",
    "        break\n",
    "    else:\n",
    "        value = str(input('請輸入值'))\n",
    "        dict2[key] = value\n",
    "        # print(f'Key:{key}')\n",
    "        # print(f'Value:{value}')\n",
    "\n",
    "dict1.update(dict2)\n",
    "\n",
    "for i in sorted(dict1.keys()):\n",
    "    print(f'{i}:{dict1[i]}')"
   ]
  },
  {
   "cell_type": "code",
   "execution_count": 5,
   "metadata": {},
   "outputs": [
    {
     "name": "stdout",
     "output_type": "stream",
     "text": [
      "Black:#000000\n",
      "Gold:#FFD700\n",
      "Green:#008000\n",
      "Green Yellow:#ADFF2F\n",
      "Red:#FF0000\n",
      "Snow:#FFFAFA\n",
      "White:#FFFFFF\n"
     ]
    }
   ],
   "source": [
    "# 字典排序\n",
    "'''\n",
    "設計說明：\n",
    "請撰寫一程式，輸入一顏色詞典color_dict（以輸入鍵值\"end\"作為輸入結束點，詞典中將不包含鍵值\"end\"），再根據key值的字母由小到大排序並輸出。\n",
    "'''\n",
    "color_dict = dict()\n",
    "\n",
    "while True:\n",
    "    color_key = str(input('請輸入顏色'))\n",
    "    if color_key == 'end':\n",
    "        break\n",
    "    else:\n",
    "        color_value = str(input('請輸入色碼編號'))\n",
    "        color_dict[color_key] = color_value\n",
    "\n",
    "for i in sorted(color_dict.keys()):\n",
    "    print(f'{i}: {color_dict[i]}')\n"
   ]
  },
  {
   "cell_type": "code",
   "execution_count": 15,
   "metadata": {},
   "outputs": [
    {
     "name": "stdout",
     "output_type": "stream",
     "text": [
      "Search key:246-8246-82\n",
      "True\n"
     ]
    }
   ],
   "source": [
    "# 字典搜尋\n",
    "'''\n",
    "設計說明：\n",
    "請撰寫一程式，為一詞典輸入資料（以輸入鍵值\"end\"作為輸入結束點，詞典中將不包含鍵值\"end\"），再輸入一鍵值並檢視此鍵值是否存在於該詞典中。\n",
    "'''\n",
    "\n",
    "dict1 = {}\n",
    "\n",
    "while True:\n",
    "    key = str(input('請輸入鍵'))\n",
    "    if key == 'end':\n",
    "        break\n",
    "    else:\n",
    "        value = str(input('請輸入值'))\n",
    "        dict1[key] = value\n",
    "\n",
    "search = str(input('請輸入search key'))\n",
    "print(f'Search key:{search}')\n",
    "print(search  in dict1)"
   ]
  },
  {
   "cell_type": "code",
   "execution_count": 22,
   "metadata": {},
   "outputs": [
    {
     "name": "stdout",
     "output_type": "stream",
     "text": [
      "Index of 's' : 0\n",
      "Index of 'a' : 1\n",
      "Index of 'n' : 2\n",
      "Index of 'd' : 3\n",
      "Index of 'w' : 4\n",
      "Index of 'i' : 5\n",
      "Index of 'c' : 6\n",
      "Index of 'h' : 7\n"
     ]
    }
   ],
   "source": [
    "# 字串的運作\n",
    "'''\n",
    "設計說明：\n",
    "請撰寫一程式，要求使用者輸入一字串，顯示該字串每個字元的索引。\n",
    "'''\n",
    "def display_indices():\n",
    "    user_input = input(\"請輸入一個字串：\")\n",
    "    for index, char in enumerate(user_input):\n",
    "        print(f\"Index of '{char}' : {index}\")\n",
    "\n",
    "display_indices()   "
   ]
  },
  {
   "cell_type": "code",
   "execution_count": 27,
   "metadata": {},
   "outputs": [
    {
     "name": "stdout",
     "output_type": "stream",
     "text": [
      "ASCII code for 'K' is 75\n",
      "ASCII code for 'i' is 105\n",
      "ASCII code for 'n' is 110\n",
      "ASCII code for 'g' is 103\n",
      "ASCII code for 'd' is 100\n",
      "ASCII code for 'o' is 111\n",
      "ASCII code for 'm' is 109\n",
      "713\n"
     ]
    }
   ],
   "source": [
    "# 字元對應\n",
    "'''\n",
    "設計說明：\n",
    "請撰寫一程式，要求使用者輸入一字串，顯示該字串每個字元的對應ASCII碼及其總和。\n",
    "'''\n",
    "\n",
    "def char_ascii():\n",
    "    total = 0\n",
    "    user_input = str(input('請輸入字串'))\n",
    "    for char in user_input:\n",
    "        total += ord(char)\n",
    "        print(f'ASCII code for \\'{char}\\' is {ord(char)}')\n",
    "    print(total)\n",
    "\n",
    "char_ascii()"
   ]
  },
  {
   "cell_type": "code",
   "execution_count": 33,
   "metadata": {},
   "outputs": [
    {
     "name": "stdout",
     "output_type": "stream",
     "text": [
      "至少有五個詞，以空白隔開\n"
     ]
    }
   ],
   "source": [
    "# 倒數三個詞\n",
    "'''\n",
    "設計說明：\n",
    "請撰寫一程式，讓使用者輸入一個句子（至少有五個詞，以空白隔開），並輸出該句子倒數三個詞。\n",
    "'''\n",
    "\n",
    "sentence = str(input('請輸入句子(至少有五個詞，以空白隔開)'))\n",
    "\n",
    "if len(sentence.split(' ')) < 5 :\n",
    "    print('請輸入最少五個詞，並以空白隔開')\n",
    "else:\n",
    "    print(sentence.split(' ')[-3],sentence.split(' ')[-2],sentence.split(' ')[-1])"
   ]
  },
  {
   "cell_type": "code",
   "execution_count": 38,
   "metadata": {},
   "outputs": [
    {
     "name": "stdout",
     "output_type": "stream",
     "text": [
      "LEARNING PYTHON IS FUNNY\n",
      "Learning Python Is Funny\n"
     ]
    }
   ],
   "source": [
    "# 大寫轉換\n",
    "'''\n",
    "設計說明：\n",
    "請撰寫一程式，讓使用者輸入一字串，分別將該字串轉換成全部大寫以及每個字的第一個字母大寫。\n",
    "'''\n",
    "sentence = str(input('請輸入一段句子'))\n",
    "print(sentence.upper())\n",
    "print(sentence.title())"
   ]
  },
  {
   "cell_type": "code",
   "execution_count": 47,
   "metadata": {},
   "outputs": [
    {
     "name": "stdout",
     "output_type": "stream",
     "text": [
      "字段長度,須為6\n",
      "|python    |\n",
      "|  python  |\n",
      "|    python|\n"
     ]
    }
   ],
   "source": [
    "# 字串輸出\n",
    "'''\n",
    "設計說明：\n",
    "請撰寫一程式，要求使用者輸入一個長度為6的字串，將此字串分別置於10個欄位的寬度的左邊、中間和右邊，並顯示這三個結果，左右皆以直線 |（Vertical bar）作為邊界。\n",
    "'''\n",
    "\n",
    "while True:\n",
    "    word = str(input('請輸入長度為6的字串'))\n",
    "    if len(word) ==  6 :\n",
    "        print(f'|{word:<10s}|')\n",
    "        print(f'|{word.center(10)}|')\n",
    "        print(f'|{word:>10s}|')\n",
    "        break\n",
    "    else:\n",
    "        print('字段長度，必須為6')\n"
   ]
  },
  {
   "cell_type": "code",
   "execution_count": 55,
   "metadata": {},
   "outputs": [
    {
     "name": "stdout",
     "output_type": "stream",
     "text": [
      "u occurs 4 time(s)\n"
     ]
    }
   ],
   "source": [
    "# 字元次數計算\n",
    "'''\n",
    "設計說明：\n",
    "請撰寫一程式，讓使用者輸入一字串和一字元，並將此字串及字元作為參數傳遞給名為compute()的函式，此函式將回傳該字串中指定字元出現的次數，接著再輸出結果。\n",
    "'''\n",
    "def compute(sentence,word):\n",
    "    frequency = sentence.count(word)\n",
    "    print(f'{word} occurs {frequency} time(s)')\n",
    "\n",
    "if __name__ == '__main__':\n",
    "    sentence = str(input('請輸入字串'))\n",
    "    word = str(input('請輸入尋找的字元'))\n",
    "    compute(sentence,word)"
   ]
  },
  {
   "cell_type": "code",
   "execution_count": 61,
   "metadata": {},
   "outputs": [
    {
     "name": "stdout",
     "output_type": "stream",
     "text": [
      "Total = 23\n",
      "Average = 4.6\n"
     ]
    }
   ],
   "source": [
    "# 字串加總\n",
    "'''\n",
    "設計說明：\n",
    "請撰寫一程式，要求使用者輸入一字串，該字串為五個數字，以空白隔開。請將此五個數字加總（Total）並計算平均（Average）。\n",
    "'''\n",
    "nums = str(input('請輸入五個數字，並以空白隔開'))\n",
    "num_list = [int(num) for num in nums.split(' ')]\n",
    "print(f'Total = {sum(num_list)}')\n",
    "print(f'Average = {sum(num_list)/len(num_list)}')"
   ]
  },
  {
   "cell_type": "code",
   "execution_count": 80,
   "metadata": {},
   "outputs": [
    {
     "name": "stdout",
     "output_type": "stream",
     "text": [
      "Invalid SSN\n"
     ]
    }
   ],
   "source": [
    "# 社會安全碼\n",
    "'''\n",
    "設計說明：\n",
    "請撰寫一程式，提示使用者輸入一個社會安全碼SSN，格式為ddd-dd-dddd，d表示數字。若格式完全符合（正確的SSN）則顯示【Valid SSN】，否則顯示【Invalid SSN】\n",
    "'''\n",
    "a = '329-48-4977'\n",
    "\n",
    "ssn = str(input('請輸入社會安全碼(格式為ddd-dd-dddd，d表示數字)'))\n",
    "parts = ssn.split('-')\n",
    "\n",
    "if len(parts) == 3 and all(part.isdigit() for part in parts):\n",
    "    if len(parts[0]) == 3 and len(parts[1]) == 2 and len(parts[2]) == 4 :\n",
    "        print('Valid SSN')\n",
    "    else:\n",
    "        print('Invalid SSN')\n",
    "else:\n",
    "    print('Invalid SSN') "
   ]
  },
  {
   "cell_type": "code",
   "execution_count": 1,
   "metadata": {},
   "outputs": [
    {
     "name": "stdout",
     "output_type": "stream",
     "text": [
      "Invalid password 密碼最少要八個字元\n"
     ]
    }
   ],
   "source": [
    "# 密碼規則\n",
    "'''\n",
    "設計說明：\n",
    "請撰寫一程式，要求使用者輸入一個密碼（字串），檢查此密碼是否符合規則。密碼規則如下：\n",
    "　a. 必須至少八個字元。\n",
    "　b. 只包含英文字母和數字。\n",
    "　c. 至少要有一個大寫英文字母。\n",
    "　d. 若符合上述三項規則，程式將顯示檢查結果為【Valid password】，否則顯示【Invalid password】。\n",
    "'''\n",
    "import re\n",
    "\n",
    "password =  str(input('請輸入密碼'))\n",
    "\n",
    "if len(password) >= 8 :\n",
    "    # if re.fullmatch('[a-zA-Z0-9]+', password):\n",
    "    if re.search('^[a-zA-z0-9]+$',password):   \n",
    "        if re.search('[A-Z]',password):\n",
    "              print('Valid password')\n",
    "        else:\n",
    "            print('Invalid password','最少有一個大寫英文字母')\n",
    "    else:\n",
    "         print('Invalid password','密碼只能包含英文字母和數字')\n",
    "else:\n",
    "     print('Invalid password','密碼最少要八個字元')\n"
   ]
  },
  {
   "cell_type": "code",
   "execution_count": 105,
   "metadata": {},
   "outputs": [
    {
     "name": "stdout",
     "output_type": "stream",
     "text": [
      "輸入必須大於1,小於等於100\n"
     ]
    }
   ],
   "source": [
    "# 最大值與最小值之差\n",
    "'''\n",
    "設計說明：\n",
    "請撰寫一程式，首先要求使用者輸入正整數k（1 <= k <= 100），代表有k筆測試資料。每一筆測試資料是一串數字，每個數字之間以一空白區隔，請找出此串列數字中最大值和最小值之間的差。\n",
    "提示：差值輸出到小數點後第二位。\n",
    "'''\n",
    "def compute():\n",
    "    try:\n",
    "        count = int(input('請輸入正整數k（1 <= k <= 100）'))\n",
    "        if count <= 100 and count > 1:\n",
    "            for _ in range(count):\n",
    "                nums = str(input('請輸入一串數字，每個數字之間以空白區隔'))\n",
    "                num_list = [float(num) for num in nums.split(' ')]\n",
    "                # print(round(max(num_list)-min(num_list),2))\n",
    "                print(f'{max(num_list)-min(num_list):.2f}')\n",
    "        else:\n",
    "            print('輸入必須大於1,小於等於100')\n",
    "    except ValueError :\n",
    "        print('請輸入有效值')\n",
    "\n",
    "compute()"
   ]
  }
 ],
 "metadata": {
  "kernelspec": {
   "display_name": "py311",
   "language": "python",
   "name": "python3"
  },
  "language_info": {
   "codemirror_mode": {
    "name": "ipython",
    "version": 3
   },
   "file_extension": ".py",
   "mimetype": "text/x-python",
   "name": "python",
   "nbconvert_exporter": "python",
   "pygments_lexer": "ipython3",
   "version": "3.11.7"
  }
 },
 "nbformat": 4,
 "nbformat_minor": 2
}
