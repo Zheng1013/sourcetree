{
 "cells": [
  {
   "cell_type": "code",
   "execution_count": 7,
   "metadata": {},
   "outputs": [
    {
     "name": "stdout",
     "output_type": "stream",
     "text": [
      "(-4, 0, 37, 19, 26, -43, 9)\n",
      "Length:7\n",
      "Max: 37\n",
      "Min: -43\n",
      "Sum: 44\n"
     ]
    }
   ],
   "source": [
    "# 串列數組轉換\n",
    "'''\n",
    "設計說明：\n",
    "請撰寫一程式，輸入數個整數並儲存至串列中，以輸入-9999為結束點（串列中不包含-9999），再將此串列轉換成數組，最後顯示該數組以及其長度（Length）、最大值（Max）、最小值（Min）、總和（Sum）。\n",
    "'''\n",
    "\n",
    "t1 = []\n",
    "while True:\n",
    "    try:\n",
    "        num = int(input('請輸入整數'))\n",
    "        if num == -9999:\n",
    "            t1 = tuple(t1)\n",
    "            print(t1)\n",
    "            print(f'Length:{len(t1)}')\n",
    "            print(f'Max: {max(t1)}')\n",
    "            print(f'Min: {min(t1)}')\n",
    "            print(f'Sum: {sum(t1)}')\n",
    "            break\n",
    "        else:\n",
    "            t1.append(num)\n",
    "    except ValueError:\n",
    "        print('請輸入有效值')\n",
    "\n",
    "\n"
   ]
  },
  {
   "cell_type": "code",
   "execution_count": 30,
   "metadata": {},
   "outputs": [
    {
     "name": "stdout",
     "output_type": "stream",
     "text": [
      "Create tuple1:\n",
      "[9, 0, -1, 3, 8]\n",
      "Create tuple2:\n",
      "[28, 16, 39, 56, 78, 88]\n",
      "Combined tuple before sorting :(9, 0, -1, 3, 8, 28, 16, 39, 56, 78, 88)\n",
      "Combined list after sorting :[-1, 0, 3, 8, 9, 16, 28, 39, 56, 78, 88]\n"
     ]
    }
   ],
   "source": [
    "# 數組合併排序\n",
    "'''\n",
    "設計說明：\n",
    "請撰寫一程式，輸入並建立兩組數組，各以-9999為結束點（數組中不包含-9999）。將此兩數組合併並從小到大排序之，顯示排序前的數組和排序後的串列\n",
    "'''\n",
    "t1 , t2 = [] , []\n",
    "\n",
    "print('Create tuple1:')\n",
    "while True : \n",
    "    num1 = int(input('請輸入'))\n",
    "    if num1 == -9999:\n",
    "        print(t1)\n",
    "        break\n",
    "    else:\n",
    "        t1.append(num1)\n",
    "\n",
    "print('Create tuple2:')\n",
    "while True : \n",
    "    num2 = int(input('請輸入'))\n",
    "    if num2 == -9999:\n",
    "        print(t2)\n",
    "        break\n",
    "    else:\n",
    "        t2.append(num2)\n",
    "t1 = tuple(t1)\n",
    "t2 = tuple(t2)\n",
    "lst = list(t1+t2)\n",
    "lst.sort()\n",
    "\n",
    "print(f'Combined tuple before sorting :{t1+t2}')\n",
    "print(f'Combined list after sorting :{lst}')\n",
    "\n"
   ]
  },
  {
   "cell_type": "code",
   "execution_count": 34,
   "metadata": {},
   "outputs": [
    {
     "name": "stdout",
     "output_type": "stream",
     "text": [
      "('president', 'dean', 'chair', 'staff', 'teacher', 'student')\n",
      "('president', 'dean', 'chair')\n",
      "('staff', 'teacher', 'student')\n"
     ]
    }
   ],
   "source": [
    "# 數組條件判斷\n",
    "'''\n",
    "設計說明：\n",
    "請撰寫一程式，輸入一些字串至數組（至少輸入五個字串），以字串\"end\"為結束點（數組中不包含字串\"end\"）。接著輸出該數組，再分別顯示該數組的第一個元素到第三個元素和倒數三個元素。\n",
    "'''\n",
    "\n",
    "word = []\n",
    "while True :\n",
    "    vocabulary = str(input('請輸入字串最少五個'))\n",
    "    if vocabulary == 'end' and len(word) >= 5 :\n",
    "        print(tuple(word))\n",
    "        print(tuple(word)[:3])\n",
    "        print(tuple(word)[-3:])\n",
    "        break\n",
    "    elif vocabulary == 'end' and len(word) < 5:\n",
    "        print('最少輸入五個字串')\n",
    "        break\n",
    "    else:\n",
    "        word.append(vocabulary)"
   ]
  },
  {
   "cell_type": "code",
   "execution_count": 35,
   "metadata": {},
   "outputs": [
    {
     "name": "stdout",
     "output_type": "stream",
     "text": [
      "Length:6\n",
      "Max:34\n",
      "Min:-23\n",
      "Sum:46\n"
     ]
    }
   ],
   "source": [
    "# 集合條件判斷\n",
    "'''\n",
    "設計說明：\n",
    "請撰寫一程式，輸入數個整數並儲存至集合，以輸入-9999為結束點（集合中不包含-9999），最後顯示該集合的長度（Length）、最大值（Max）、最小值（Min）、總和（Sum）。\n",
    "'''\n",
    "s1 = set()\n",
    "while True :\n",
    "    num = int(input('請輸入整數,輸入為-9999時結束'))\n",
    "    if num == -9999:\n",
    "        print(f'Length: {len(s1)}')\n",
    "        print(f'Max: {max(s1)}')\n",
    "        print(f'Min: {min(s1)}')\n",
    "        print(f'Sum: {sum(s1)}')\n",
    "        break\n",
    "    else:\n",
    "        s1.add(num)"
   ]
  },
  {
   "cell_type": "code",
   "execution_count": 37,
   "metadata": {},
   "outputs": [
    {
     "name": "stdout",
     "output_type": "stream",
     "text": [
      "set2 is subset of set1 False\n",
      "set3 is superset of set1 True\n"
     ]
    }
   ],
   "source": [
    "# 子集合與超集合\n",
    "'''\n",
    "設計說明：\n",
    "請撰寫一程式，依序輸入五個、三個、九個整數，並各自儲存到集合set1、set2、set3中。接著回答：set2是否為set1的子集合（subset）？set3是否為set1的超集合（superset）？\n",
    "'''\n",
    "\n",
    "def create_set(count):\n",
    "    try : \n",
    "        nums_set = set()\n",
    "        for _ in range(count):\n",
    "            num = int(input('請輸入整數'))\n",
    "            nums_set.add(num)\n",
    "        return nums_set\n",
    "    except ValueError :\n",
    "        print('輸入值無效!')\n",
    "\n",
    "if __name__ == '__main__':\n",
    "    s1 = create_set(5)\n",
    "    s2 = create_set(3)\n",
    "    s3 = create_set(9)\n",
    "    print('set2 is subset of set1', s2.issubset(s1))\n",
    "    print('set3 is superset of set1',s3.issuperset(s1))\n"
   ]
  },
  {
   "cell_type": "code",
   "execution_count": 9,
   "metadata": {},
   "outputs": [
    {
     "name": "stdout",
     "output_type": "stream",
     "text": [
      "檢測句子:learning python is funny\n",
      "結果:False\n"
     ]
    }
   ],
   "source": [
    "# 全字母句\n",
    "'''\n",
    "設計說明：\n",
    "全字母句（Pangram）是英文字母表所有的字母都出現至少一次（最好只出現一次）的句子。請撰寫一程式，要求使用者輸入一正整數k（代表有k筆測試資料），每一筆測試資料為一句子，程式判斷該句子是否為Pangram，並印出對應結果True（若是）或False（若不是）。\n",
    "提示：不區分大小寫字母\n",
    "'''\n",
    "import string\n",
    "\n",
    "def pangram(count):\n",
    "    alphabet = string.ascii_lowercase\n",
    "    for _ in range(count):\n",
    "        conversation = str(input('請輸入一段句子')).lower()\n",
    "        print(f'檢測句子:{conversation}')\n",
    "        conversation = set(conversation)\n",
    "        print(f'結果:{conversation.issuperset(alphabet)}')\n",
    "\n",
    "if __name__ == '__main__':\n",
    "    try:\n",
    "        count = int(input('請輸入要檢測幾筆資料'))\n",
    "        pangram(count)\n",
    "    except ValueError:\n",
    "        print('請輸入有效值') \n",
    "\n"
   ]
  },
  {
   "cell_type": "code",
   "execution_count": 14,
   "metadata": {},
   "outputs": [
    {
     "name": "stdout",
     "output_type": "stream",
     "text": [
      "Enter group X's subjects\n",
      "Enter group Y's subjects\n",
      "['Chemistry', 'Chinese', 'English', 'Geography', 'History', 'Literature', 'Math', 'Physical']\n",
      "['Literature', 'Math']\n",
      "['Chemistry', 'Chinese', 'Physical']\n",
      "['Chemistry', 'Chinese', 'English', 'Geography', 'History', 'Physical']\n"
     ]
    }
   ],
   "source": [
    "# 共同科目\n",
    "'''\n",
    "設計說明：\n",
    "請撰寫一程式，輸入X組和Y組各自的科目至集合中，以字串\"end\"作為結束點（集合中不包含字串\"end\"）。請依序分行顯示(1) X組和Y組的所有科目、(2)X組和Y組的共同科目、(3)Y組有但X組沒有的科目，以及(4) X組和Y組彼此沒有的科目（不包含相同科目）。\n",
    "提示：科目須參考範例輸出樣本，依字母由小至大進行排序。\n",
    "'''\n",
    "def subjects():\n",
    "    x = set()\n",
    "    y = set()\n",
    "    print('Enter group X\\'s subjects')\n",
    "    while True :\n",
    "        subject = str(input('請輸入科目'))\n",
    "        if subject == 'end':\n",
    "            break\n",
    "        else:\n",
    "            x.add(subject.capitalize())\n",
    "\n",
    "    print('Enter group Y\\'s subjects')\n",
    "    while True :\n",
    "        subject = str(input('請輸入科目'))\n",
    "        if subject == 'end':\n",
    "            break\n",
    "        else:\n",
    "            y.add(subject.capitalize())  \n",
    "\n",
    "    print(sorted(x | y))\n",
    "    print(sorted(x & y))\n",
    "    print(sorted(y - x))\n",
    "    print(sorted(x ^ y))\n",
    "\n",
    "\n",
    "\n",
    "subjects()"
   ]
  },
  {
   "cell_type": "code",
   "execution_count": null,
   "metadata": {},
   "outputs": [],
   "source": []
  }
 ],
 "metadata": {
  "kernelspec": {
   "display_name": "py311",
   "language": "python",
   "name": "python3"
  },
  "language_info": {
   "codemirror_mode": {
    "name": "ipython",
    "version": 3
   },
   "file_extension": ".py",
   "mimetype": "text/x-python",
   "name": "python",
   "nbconvert_exporter": "python",
   "pygments_lexer": "ipython3",
   "version": "3.11.7"
  }
 },
 "nbformat": 4,
 "nbformat_minor": 2
}
