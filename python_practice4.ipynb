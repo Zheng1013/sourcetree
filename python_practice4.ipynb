{
 "cells": [
  {
   "cell_type": "code",
   "execution_count": 4,
   "metadata": {},
   "outputs": [
    {
     "name": "stdout",
     "output_type": "stream",
     "text": [
      "Department : Information Management\n",
      "Student ID : 123456789\n",
      "Name : Tina Chen\n"
     ]
    }
   ],
   "source": [
    "# 訊息顯示\n",
    "'''\n",
    "設計說明：\n",
    "請撰寫一程式，呼叫函式compute()，該函式功能為讓使用者輸入系別（Department）、學號（Student ID）和姓名（Name）並顯示這些訊息。\n",
    "'''\n",
    "\n",
    "def compute():\n",
    "    department = str(input('請輸入系別'))\n",
    "    id = str(input('請輸入學號'))\n",
    "    name = str(input('請輸入姓名'))\n",
    "    print(f'Department : {department}')\n",
    "    print(f'Student ID : {id}')\n",
    "    print(f'Name : {name}')\n",
    "\n",
    "if __name__ == '__main__':\n",
    "    compute()"
   ]
  }
 ],
 "metadata": {
  "kernelspec": {
   "display_name": "py311",
   "language": "python",
   "name": "python3"
  },
  "language_info": {
   "codemirror_mode": {
    "name": "ipython",
    "version": 3
   },
   "file_extension": ".py",
   "mimetype": "text/x-python",
   "name": "python",
   "nbconvert_exporter": "python",
   "pygments_lexer": "ipython3",
   "version": "3.11.7"
  }
 },
 "nbformat": 4,
 "nbformat_minor": 2
}
