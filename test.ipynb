{
 "cells": [
  {
   "cell_type": "code",
   "execution_count": null,
   "metadata": {},
   "outputs": [],
   "source": [
    "s = \"LVIII\"\n",
    "s[-1]"
   ]
  },
  {
   "cell_type": "code",
   "execution_count": null,
   "metadata": {},
   "outputs": [],
   "source": [
    "roman = {\"I\":1,\"V\":5,\"X\":10,\"L\":50,\"C\":100,\"D\":500, \"M\":1000}\n",
    "num = 0\n",
    "for i in range(len(s)-1):\n",
    "        if roman[s[i]] == roman[s[i+1]] or roman[s[i]] > roman[s[i+1]]:\n",
    "            num += roman[s[i]]\n",
    "        else:\n",
    "            num -= roman[s[i]]\n",
    "num += roman[s[-1]]\n",
    "print(num)"
   ]
  },
  {
   "cell_type": "code",
   "execution_count": 19,
   "metadata": {},
   "outputs": [
    {
     "name": "stdout",
     "output_type": "stream",
     "text": [
      "2\n"
     ]
    }
   ],
   "source": [
    "#num = [0,0,1,1,1,2,2,3,3,4]\n",
    "num = [1,1,2]\n",
    "\n",
    "j = 1 \n",
    "\n",
    "for i in range(1,len(num)) :\n",
    "    if num[i] != num[i-1]:\n",
    "        num[j] == num[i]\n",
    "        j += 1 \n",
    "print(j)\n"
   ]
  },
  {
   "cell_type": "code",
   "execution_count": 31,
   "metadata": {},
   "outputs": [
    {
     "data": {
      "text/plain": [
       "['fly', 'me', 'to', 'the', 'moon']"
      ]
     },
     "execution_count": 31,
     "metadata": {},
     "output_type": "execute_result"
    }
   ],
   "source": [
    "s = \"   fly me   to   the moon  \"\n",
    "a = s.split(' ')\n",
    "b = [i for i in a if i != \"\"]\n",
    "b"
   ]
  },
  {
   "cell_type": "code",
   "execution_count": 53,
   "metadata": {},
   "outputs": [
    {
     "name": "stdout",
     "output_type": "stream",
     "text": [
      "[4, 3, 2, 2]\n"
     ]
    }
   ],
   "source": [
    "digits = [4,3,2,1]\n",
    "world = ''\n",
    "for i in digits:\n",
    "    world += str(i)\n",
    "\n",
    "digits = [int(i) for i in str(int(world)+1)]\n",
    "print(digits)"
   ]
  },
  {
   "cell_type": "code",
   "execution_count": 76,
   "metadata": {},
   "outputs": [
    {
     "name": "stdout",
     "output_type": "stream",
     "text": [
      "第一個15\n",
      "第二個8\n",
      "第二個5\n",
      "第二個5\n",
      "30 的平方根是 5\n"
     ]
    }
   ],
   "source": [
    "def sqrt(number):\n",
    "    if number < 0:\n",
    "        return \"无法计算负数的平方根\"\n",
    "    elif number == 0 or number == 1:\n",
    "        return number\n",
    "    \n",
    "    x = number\n",
    "    y = (x + 1) // 2  # 初始猜测的平方根值\n",
    "    print(\"第一個\" + str(y))\n",
    "    \n",
    "    while y < x:\n",
    "        x = y\n",
    "        y = (x + number // x) // 2\n",
    "        print(\"第二個\" + str(y))\n",
    "    \n",
    "    return x\n",
    "\n",
    "# 示例用法\n",
    "num = 30\n",
    "result = sqrt(num)\n",
    "print(f\"{num} 的平方根是 {result}\")\n"
   ]
  }
 ],
 "metadata": {
  "kernelspec": {
   "display_name": "base",
   "language": "python",
   "name": "python3"
  },
  "language_info": {
   "codemirror_mode": {
    "name": "ipython",
    "version": 3
   },
   "file_extension": ".py",
   "mimetype": "text/x-python",
   "name": "python",
   "nbconvert_exporter": "python",
   "pygments_lexer": "ipython3",
   "version": "3.11.5"
  }
 },
 "nbformat": 4,
 "nbformat_minor": 2
}
