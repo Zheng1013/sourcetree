{
 "cells": [
  {
   "cell_type": "code",
   "execution_count": null,
   "metadata": {},
   "outputs": [],
   "source": [
    "s = \"LVIII\"\n",
    "s[-1]"
   ]
  },
  {
   "cell_type": "code",
   "execution_count": null,
   "metadata": {},
   "outputs": [],
   "source": [
    "roman = {\"I\":1,\"V\":5,\"X\":10,\"L\":50,\"C\":100,\"D\":500, \"M\":1000}\n",
    "num = 0\n",
    "for i in range(len(s)-1):\n",
    "        if roman[s[i]] == roman[s[i+1]] or roman[s[i]] > roman[s[i+1]]:\n",
    "            num += roman[s[i]]\n",
    "        else:\n",
    "            num -= roman[s[i]]\n",
    "num += roman[s[-1]]\n",
    "print(num)"
   ]
  },
  {
   "cell_type": "code",
   "execution_count": null,
   "metadata": {},
   "outputs": [],
   "source": [
    "#num = [0,0,1,1,1,2,2,3,3,4]\n",
    "num = [1,1,2]\n",
    "\n",
    "j = 1 \n",
    "\n",
    "for i in range(1,len(num)) :\n",
    "    if num[i] != num[i-1]:\n",
    "        num[j] == num[i]\n",
    "        j += 1 \n",
    "print(j)\n"
   ]
  },
  {
   "cell_type": "code",
   "execution_count": null,
   "metadata": {},
   "outputs": [],
   "source": [
    "s = \"   fly me   to   the moon  \"\n",
    "a = s.split(' ')\n",
    "b = [i for i in a if i != \"\"]\n",
    "b"
   ]
  },
  {
   "cell_type": "code",
   "execution_count": null,
   "metadata": {},
   "outputs": [],
   "source": [
    "digits = [4,3,2,1]\n",
    "world = ''\n",
    "for i in digits:\n",
    "    world += str(i)\n",
    "\n",
    "digits = [int(i) for i in str(int(world)+1)]\n",
    "print(digits)"
   ]
  },
  {
   "cell_type": "code",
   "execution_count": null,
   "metadata": {},
   "outputs": [],
   "source": [
    "#求平方根 自己寫的速度比較慢,效率較差 \n",
    "def mySqrt(x) :\n",
    "        if x == 0 or x == 1 :\n",
    "             return x\n",
    "        else:\n",
    "          low = 2\n",
    "          high = x\n",
    "          mid = (low + high)//2\n",
    "          while high > low :\n",
    "               if mid**2 == x :\n",
    "                    return mid\n",
    "               elif mid**2 > x :\n",
    "                    high = mid\n",
    "                    mid = (low + high) //2 \n",
    "               else:\n",
    "                    if (mid + 1)**2 > x:\n",
    "                         return mid\n",
    "                    else:\n",
    "                         mid += 1\n",
    "\n",
    "\n",
    "print(mySqrt(82))    "
   ]
  },
  {
   "cell_type": "code",
   "execution_count": null,
   "metadata": {},
   "outputs": [],
   "source": [
    "nums1 = [1,2,3,0,0,0]\n",
    "#m = 3\n",
    "nums2 = [2,5,6] \n",
    "#n = 3\n",
    "nums1 = [i for i in nums1 if i != 0]\n",
    "\n",
    "index1=0\n",
    "index2=0\n",
    "while index2 < len(nums2):\n",
    "    if  index1 >= len(nums1) or nums1[index1] >= nums2[index2]:\n",
    "        nums1.insert(index1,nums2[index2])\n",
    "        index1 +=1\n",
    "        index2 +=1\n",
    "    else:\n",
    "        index1 +=1\n",
    "    \n",
    "        \n",
    "print(nums1)"
   ]
  },
  {
   "cell_type": "code",
   "execution_count": 49,
   "metadata": {},
   "outputs": [
    {
     "name": "stdout",
     "output_type": "stream",
     "text": [
      "[1, 2, 3, 2, 5, 6]\n",
      "[1, 2, 2, 3, 5, 6]\n",
      "[1, 2, 3, 0, 0]\n"
     ]
    }
   ],
   "source": [
    "nums1 = [1,2,3,0,0,0] \n",
    "m = 3 \n",
    "nums2 = [2,5,6] \n",
    "n = 3\n",
    "Output: [1,2,2,3,5,6]\n",
    "\n",
    "for i in range(len(nums1)-m):\n",
    "    nums1.remove(0)\n",
    "for j in range(len(nums2)-n):\n",
    "    nums2.remove(0)\n",
    "nums1.extend(nums2)\n",
    "# nums1.sort()\n",
    "print(nums1)\n",
    "nums1.sort()\n",
    "print(nums1) \n"
   ]
  }
 ],
 "metadata": {
  "kernelspec": {
   "display_name": "base",
   "language": "python",
   "name": "python3"
  },
  "language_info": {
   "codemirror_mode": {
    "name": "ipython",
    "version": 3
   },
   "file_extension": ".py",
   "mimetype": "text/x-python",
   "name": "python",
   "nbconvert_exporter": "python",
   "pygments_lexer": "ipython3",
   "version": "3.11.5"
  }
 },
 "nbformat": 4,
 "nbformat_minor": 2
}
