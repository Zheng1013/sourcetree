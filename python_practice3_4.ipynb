{
 "cells": [
  {
   "cell_type": "code",
   "execution_count": null,
   "metadata": {},
   "outputs": [],
   "source": [
    "# 迴圈整數連加\n",
    "'''\n",
    "設計說明：\n",
    "請使用迴圈敘述撰寫一程式，讓使用者輸入兩個正整數a、b（a < b），利用迴圈計算從a開始連加到b的總和。例如：輸入a=1、b=100，則輸出結果為5050（1 + 2 + … + 100 = 5050）。\n",
    "'''\n",
    "# 方法一\n",
    "# a = int(input())\n",
    "# b = int(input())\n",
    "\n",
    "# total = ((a+b) * (b-a+1))/2\n",
    "\n",
    "# if a < b :\n",
    "#     print(int(total))\n",
    "# else:\n",
    "#     print('b的輸入要大於a')\n",
    "\n",
    "# 方法二\n",
    "a = int(input())\n",
    "b = int(input())\n",
    "\n",
    "total = 0 \n",
    "\n",
    "if a < b :\n",
    "    for i in range(a,b+1):\n",
    "        sum += i\n",
    "    print(total)\n",
    "else:\n",
    "    print('b的輸入要大於a')"
   ]
  },
  {
   "cell_type": "code",
   "execution_count": null,
   "metadata": {},
   "outputs": [],
   "source": [
    "# 迴圈偶數連加\n",
    "\n",
    "'''\n",
    "設計說明：\n",
    "請使用迴圈敘述撰寫一程式，讓使用者輸入兩個正整數a、b（a < b），利用迴圈計算從a開始的偶數連加到b的總和。例如：輸入a=1、b=100，則輸出結果為2550（2 + 4 + … + 100 = 2550）。\n",
    "'''\n",
    "\n",
    "a = int(input())\n",
    "b = int(input())\n",
    "\n",
    "total = 0 \n",
    "\n",
    "if a < b :\n",
    "    for i in range(a,b+1):\n",
    "        if i%2 == 0 :\n",
    "            total += i\n",
    "    print(total)\n",
    "else:\n",
    "    print('b的輸入要大於a')"
   ]
  },
  {
   "cell_type": "code",
   "execution_count": null,
   "metadata": {},
   "outputs": [],
   "source": [
    "# 迴圈數值相乘\n",
    "\n",
    "'''\n",
    "設計說明：\n",
    "請使用迴圈敘述撰寫一程式，讓使用者輸入一個正整數（<100），然後以三角形的方式依序輸出此數的相乘結果。\n",
    "提示：輸出欄寬為4，且需靠右對齊。\n",
    "'''\n",
    "\n",
    "while True:\n",
    "    num = int(input(\"請輸入一個正整數（<100）: \"))\n",
    "    if 0 < num < 100:\n",
    "        break\n",
    "    else:\n",
    "        print(\"輸入的數字不符合條件，請重新輸入！\")\n",
    "\n",
    "for i in range(1, num + 1):\n",
    "    for j in range(1, i + 1):\n",
    "        print(f\"{i * j:4d}\", end=\"\")\n",
    "    print()\n"
   ]
  },
  {
   "cell_type": "code",
   "execution_count": null,
   "metadata": {},
   "outputs": [],
   "source": [
    "# 迴圈倍數總和\n",
    "'''\n",
    "設計說明：\n",
    "請使用迴圈敘述撰寫一程式，讓使用者輸入一個正整數a，利用迴圈計算從1到a之間，所有5之倍數數字總和。\n",
    "'''\n",
    "while True:\n",
    "    try:\n",
    "        num = int(input('請輸入一個正整數'))\n",
    "        tatal = 0\n",
    "        for i in range(1,num+1):\n",
    "            if i % 5 == 0 :\n",
    "                total += i \n",
    "        print(total)\n",
    "        break\n",
    "    except ValueError:\n",
    "        print('請輸入有效數字')"
   ]
  },
  {
   "cell_type": "code",
   "execution_count": null,
   "metadata": {},
   "outputs": [],
   "source": [
    "# 數字反轉\n",
    "'''\n",
    "設計說明：\n",
    "請撰寫一程式，讓使用者輸入一個正整數，將此數值以反轉的順序輸出。\n",
    "'''\n",
    "\n",
    "while True:\n",
    "    try:\n",
    "        a = int(input('請輸入一個正整數'))\n",
    "        trans = str(a)[::-1]\n",
    "        print(trans)\n",
    "        break\n",
    "    except ValueError:\n",
    "        print('請輸入有效數字')\n",
    "\n"
   ]
  },
  {
   "cell_type": "code",
   "execution_count": null,
   "metadata": {},
   "outputs": [],
   "source": [
    "# 迴圈階層計算\n",
    "'''\n",
    "設計說明：\n",
    "請使用迴圈敘述撰寫一程式，讓使用者輸入一個正整數n，利用迴圈計算並輸出n!的值。\n",
    "'''\n",
    "\n",
    "while True:\n",
    "    try:\n",
    "        a = int(input('請輸入一個正整數'))\n",
    "        total = 1\n",
    "        for i in range(1,a+1):\n",
    "            total *= i\n",
    "        print(total)\n",
    "        break\n",
    "    except ValueError:\n",
    "        print('請輸入有效數字')\n"
   ]
  },
  {
   "cell_type": "code",
   "execution_count": null,
   "metadata": {},
   "outputs": [],
   "source": [
    "# 乘法表\n",
    "'''\n",
    "設計說明：\n",
    "(1) 請使用迴圈敘述撰寫一程式，要求使用者輸入一個正整數n（n<10），顯示n*n乘法表。\n",
    "(2) 每項運算式需進行格式化排列整齊，每個運算子及運算元輸出的欄寬為2，而每項乘積輸出的欄寬為4，皆靠左對齊不跳行。\n",
    "\n",
    "'''\n",
    "while True:\n",
    "    try:\n",
    "        a = int(input('請輸入一個正整數（n<10）'))\n",
    "        if a < 10 :\n",
    "            for i in range(1,a+1):\n",
    "                for j in range(1,a+1):\n",
    "                    print(f'{j:2d} * {i:2d} = {j*i:<4d}',end='')\n",
    "                print()\n",
    "            break\n",
    "        else:\n",
    "            print('輸入請小於10')\n",
    "\n",
    "    except ValueError:\n",
    "        print('請輸入有效數字')\n"
   ]
  },
  {
   "cell_type": "code",
   "execution_count": null,
   "metadata": {},
   "outputs": [
    {
     "name": "stdout",
     "output_type": "stream",
     "text": [
      "Sum of all digits of 987777 is 45\n"
     ]
    }
   ],
   "source": [
    "# 迴圈位數加總\n",
    "\n",
    "'''\n",
    "設計說明：\n",
    "請使用迴圈敘述撰寫一程式，要求使用者輸入一個數字，此數字代表後面測試資料的數量。每一筆測試資料是一個正整數（由使用者輸入），將此正整數的每位數全部加總起來。\n",
    "'''\n",
    "\n",
    "while True:\n",
    "    try:\n",
    "        a = int(input('請輸入一個正整數'))\n",
    "        total = 0 \n",
    "        for i in range(len(str(a))):\n",
    "            sum += int(str(a)[i])\n",
    "        print(f'Sum of all digits of {a} is {total}')\n",
    "        break\n",
    "    except ValueError:\n",
    "        print('請輸入有效數字')\n",
    "\n",
    "# 另外一種寫法\n",
    "        \n",
    "# while True:\n",
    "#     try:\n",
    "#         a = int(input('請輸入一個正整數'))\n",
    "#         num_list = [int(i) for i in list(str(a)) ]\n",
    "#         total = sum(num_list)\n",
    "#         print(f'Sum of all digits of {a} is {total}')\n",
    "#         break\n",
    "#     except ValueError:\n",
    "#         print('請輸入有效數字')\n",
    "        \n",
    "        \n"
   ]
  },
  {
   "cell_type": "code",
   "execution_count": null,
   "metadata": {},
   "outputs": [
    {
     "name": "stdout",
     "output_type": "stream",
     "text": [
      "Month \t  Amount\n",
      "  1 \t 50054.17\n",
      "  2 \t 50108.39\n",
      "  3 \t 50162.68\n",
      "  4 \t 50217.02\n",
      "  5 \t 50271.42\n"
     ]
    }
   ],
   "source": [
    "# 存款總額\n",
    "'''\n",
    "設計說明：\n",
    "請使用迴圈敘述撰寫一程式，提示使用者輸入金額（如10,000）、年收益率（如5.75），以及經過的月份數（如5），接著顯示每個月的存款總額。\n",
    "提示：四捨五入，輸出浮點數到小數點後第二位。\n",
    "舉例：\n",
    "假設您存款$10,000，年收益為5.75%。\n",
    "過了一個月，存款會是：10000 + 10000 * 5.75 / 1200 = 10047.92\n",
    "過了兩個月，存款會是：10047.92 + 10047.92 * 5.75 / 1200 = 10096.06\n",
    "過了三個月，存款將是：10096.06 + 10096.06 * 5.75 / 1200 = 10144.44\n",
    "以此類推。\n",
    "'''\n",
    "\n",
    "money = int(input('輸入金額（如10,000）'))\n",
    "rate = float(input('輸入年收益率（如5.75）'))\n",
    "month = int(input('輸入經過的月份數（如5）'))\n",
    "\n",
    "print(f'{\"Month\"} \\t  {\"Amount\"}')\n",
    "\n",
    "for i in range(1,month+1):\n",
    "    money = money + money * rate/1200\n",
    "    print(f'{i:3d} \\t {money:.2f}')\n",
    "\n"
   ]
  },
  {
   "cell_type": "code",
   "execution_count": 10,
   "metadata": {},
   "outputs": [
    {
     "name": "stdout",
     "output_type": "stream",
     "text": [
      "1.8284\n"
     ]
    }
   ],
   "source": [
    "# 迴圈公式計算\n",
    "'''\n",
    "設計說明：\n",
    "請使用迴圈敘述撰寫一程式，讓使用者輸入正整數n (1 < n)，計算以下公式的總和並顯示結果：\n",
    "'''\n",
    "def main():\n",
    "    num = int(input('請輸入一個正整數n (1 < n)'))\n",
    "    total = 0\n",
    "    if num > 1 :\n",
    "        for i in range(1,num):\n",
    "            total += 1/(i**0.5 + (i+1)**0.5 )\n",
    "        print(f'{total:.4f}')\n",
    "\n",
    "if __name__ == '__main__':\n",
    "    main()"
   ]
  },
  {
   "cell_type": "code",
   "execution_count": null,
   "metadata": {},
   "outputs": [
    {
     "name": "stdout",
     "output_type": "stream",
     "text": [
      "最小數字是:-100.5\n"
     ]
    }
   ],
   "source": [
    "# 最小值\n",
    "'''\n",
    "設計說明：\n",
    "請撰寫一程式，由使用者輸入十個數字，然後找出其最小值，最後輸出最小值。\n",
    "'''\n",
    "def main():\n",
    "    try:\n",
    "        num_list = []\n",
    "        for i in range(10):\n",
    "            num = float(input(f'請輸入{i+1}個數字'))\n",
    "            num_list.append(num)\n",
    "\n",
    "        min_num = min(num_list)\n",
    "        print(f'最小數字是:{min_num}')\n",
    "    except ValueError:\n",
    "        print('輸入值無效 ! 請輸入數字')\n",
    "\n",
    "if __name__ == '__main__':\n",
    "    main()\n"
   ]
  },
  {
   "cell_type": "code",
   "execution_count": null,
   "metadata": {},
   "outputs": [
    {
     "name": "stdout",
     "output_type": "stream",
     "text": [
      "輸入值無效 ! 請輸入數字\n",
      "輸入值無效 ! 請輸入數字\n",
      "-33.0\n"
     ]
    }
   ],
   "source": [
    "# 不定數迴圈-最小值\n",
    "\n",
    "'''\n",
    "設計說明：\n",
    "請撰寫一程式，讓使用者輸入數字，輸入的動作直到輸入值為9999才結束，然後找出其最小值，並輸出最小值。\n",
    "'''\n",
    "\n",
    "def main():\n",
    "    num_list = []\n",
    "    while True:\n",
    "        try:\n",
    "            num = float(input('請輸入數字'))\n",
    "            if num == 9999:\n",
    "                min_num = min(num_list)\n",
    "                print(min_num)\n",
    "                break\n",
    "            else:\n",
    "                num_list.append(num)\n",
    "        except ValueError:\n",
    "            print('輸入值無效 ! 請輸入數字')            \n",
    "\n",
    "if __name__ == '__main__':\n",
    "    main()"
   ]
  },
  {
   "cell_type": "code",
   "execution_count": null,
   "metadata": {},
   "outputs": [
    {
     "name": "stdout",
     "output_type": "stream",
     "text": [
      "這不是一個有效的整數\n",
      "這不是一個有效的整數\n",
      "這不是一個有效的整數\n",
      "第二個數字請大於等於地一個數字\n",
      "8   9   12  16  18  20  24  27  28  32  \n",
      "36  40  44  45  48  52  54  \n",
      "17\n",
      "513\n"
     ]
    }
   ],
   "source": [
    "# 倍數總和計算\n",
    "'''\n",
    "設計說明：\n",
    "請撰寫一程式，讓使用者輸入兩個正整數a、b（a<=b），輸出從a到b（包含a和b）之間4或9的倍數（一列輸出十個數字、欄寬為4、靠左對齊）以及倍數之個數、總和。\n",
    "'''\n",
    "\n",
    "def main():\n",
    "    while True:\n",
    "        try:\n",
    "            num1 = int(input('請輸入第一個正整數'))\n",
    "            num2 = int(input('請輸入第二個正整數'))\n",
    "            total = 0\n",
    "            count = 0\n",
    "            if num1 < 0 or num2 < 0 :\n",
    "                print('請輸入一個正整數')\n",
    "            elif num1 > num2 :\n",
    "                print('第二個數字請大於等於地一個數字')\n",
    "            else:\n",
    "                for i in range(num1,num2+1):\n",
    "                    if i%4 == 0 or i%9 == 0 :\n",
    "                        print(f'{i:<4}',end='')\n",
    "                        count += 1\n",
    "                        total += i\n",
    "                        if count % 10 == 0:\n",
    "                            print()\n",
    "                print()\n",
    "                print(count)\n",
    "                print(total)\n",
    "                break\n",
    "        except ValueError:\n",
    "            print('這不是一個有效的整數')\n",
    "\n",
    "if __name__ == '__main__':\n",
    "    main()"
   ]
  },
  {
   "cell_type": "code",
   "execution_count": null,
   "metadata": {},
   "outputs": [
    {
     "name": "stdout",
     "output_type": "stream",
     "text": [
      "請輸入數字\n",
      "請輸入正整數\n",
      "55\n"
     ]
    }
   ],
   "source": [
    "# 數字反轉判斷\n",
    "'''\n",
    "設計說明：\n",
    "請撰寫一程式，讓使用者輸入一個正整數，將此正整數以反轉的順序輸出，並判斷如輸入0，則輸出為0。\n",
    "'''\n",
    "\n",
    "def main():\n",
    "    while True:\n",
    "        try:\n",
    "            num = int(input('請輸入一個正整數'))\n",
    "            if num > 0 :\n",
    "                print(str(num)[::-1])\n",
    "                break\n",
    "            elif num == 0 :\n",
    "                print(num)\n",
    "                break\n",
    "            else:\n",
    "                print('請輸入正整數')\n",
    "        except ValueError:\n",
    "            print('請輸入有效的輸入')\n",
    "\n",
    "if __name__ == '__main__':\n",
    "    main()  "
   ]
  },
  {
   "cell_type": "code",
   "execution_count": null,
   "metadata": {},
   "outputs": [
    {
     "name": "stdout",
     "output_type": "stream",
     "text": [
      "C\n",
      "E\n",
      "A\n",
      "B\n",
      "D\n"
     ]
    }
   ],
   "source": [
    "# 不定數迴圈-分數等級\n",
    "'''\n",
    "設計說明：\n",
    "請撰寫一程式，以不定數迴圈的方式輸入一個正整數（代表分數），之後根據以下分數與GPA的對照表，印出其所對應的GPA。假設此不定數迴圈輸入-9999則會結束此迴圈。標準如下表所示：\n",
    "分　數 GPA\n",
    "90 ~ 100 A\n",
    "80 ~ 89 B\n",
    "70 ~ 79 C\n",
    "60 ~ 69 D\n",
    "0 ~ 59 E\n",
    "'''\n",
    "\n",
    "def level():\n",
    "    while True:\n",
    "        try:\n",
    "            score = int(input('請輸入一個正整數'))\n",
    "            # print(score)\n",
    "            if score >= 90 and score <= 100 :\n",
    "                print('A')\n",
    "            elif score >= 80 and score <= 89 :\n",
    "                print('B')\n",
    "            elif score >= 70 and score <= 79 :\n",
    "                print('C')\n",
    "            elif score >= 60 and score <= 69 :\n",
    "                print('D')\n",
    "            elif score >= 0 and score <= 59 :\n",
    "                print('E')\n",
    "            elif score == -9999:\n",
    "                break\n",
    "            else:\n",
    "                print('請輸入正整數')\n",
    "        except ValueError:\n",
    "            print('請輸入有效的輸入')\n",
    "\n",
    "if __name__ == '__main__':\n",
    "    level()"
   ]
  },
  {
   "cell_type": "code",
   "execution_count": null,
   "metadata": {},
   "outputs": [
    {
     "name": "stdout",
     "output_type": "stream",
     "text": [
      "BMI: 25.83\n",
      "State: over weight\n",
      "BMI: 34.6\n",
      "State: fat\n",
      "BMI: 24.22\n",
      "State: normal\n",
      "BMI: 22.49\n",
      "State: normal\n",
      "結束程式\n"
     ]
    }
   ],
   "source": [
    "# 不定數迴圈-BMI計算\n",
    "'''\n",
    "設計說明：\n",
    "請撰寫一程式，以不定數迴圈的方式輸入身高與體重，計算出BMI之後再根據以下對照表，印出BMI及相對應的BMI代表意義（State）。假設此不定數迴圈輸入-9999則會結束此迴圈。標準如下表所示：\n",
    "BMI值 代表意義\n",
    "BMI < 18.5 under weight\n",
    "18.5 <= BMI < 25 normal\n",
    "25.0 <= BMI < 30 over weight\n",
    "30 <= BMI fat\n",
    "提示：體重身高\n",
    "，輸出浮點數到小數點後第二位。 不需考慮男性或女性標準。\n",
    "'''\n",
    "\n",
    "def BMI():\n",
    "    while True:\n",
    "        try:\n",
    "            height = float(input('請輸入身高(公分)'))\n",
    "            if height == -9999:\n",
    "                print('結束程式')\n",
    "                break\n",
    "\n",
    "            weight = float(input('請輸入體重(公斤)'))\n",
    "            if weight == -9999:\n",
    "                print('結束程式')\n",
    "                break\n",
    "            \n",
    "            if height > 0 and weight > 0 :\n",
    "                bmi = round(weight/((height/100)**2),2)\n",
    "                print(f'BMI: {bmi}')\n",
    "                print('State: ',end='')\n",
    "\n",
    "                if bmi < 18.5:\n",
    "                    print('under weight')\n",
    "                elif bmi >= 18.5 and bmi < 25 :\n",
    "                    print('normal')\n",
    "                elif bmi >= 25 and bmi < 30 :\n",
    "                    print('over weight')\n",
    "                elif bmi >= 30:\n",
    "                    print('fat')\n",
    "\n",
    "            else:\n",
    "                print('請輸入正確的身高、體重')\n",
    "        except ValueError:\n",
    "            print('請輸入數字')\n",
    "\n",
    "if __name__ == '__main__':\n",
    "    BMI()"
   ]
  },
  {
   "cell_type": "code",
   "execution_count": null,
   "metadata": {},
   "outputs": [
    {
     "name": "stdout",
     "output_type": "stream",
     "text": [
      "請輸入正整數\n",
      "請輸入正整數\n",
      "2000 is a leap year\n",
      "程式結束\n"
     ]
    }
   ],
   "source": [
    "# 不定數迴圈-閏年判斷\n",
    "'''\n",
    "設計說明：\n",
    "(1) 請撰寫一程式，以不定數迴圈的方式讓使用者輸入西元年份，然後判斷它是否為閏年（leap year）或平年。其判斷規則如下：每四年一閏，每百年不閏，但每四百年也一閏。\n",
    "(2) 假設此不定數迴圈輸入-9999則會結束此迴圈。\n",
    "'''\n",
    "\n",
    "def leap():\n",
    "    while True:\n",
    "        try:\n",
    "            year = int(input('請輸入西元年分,輸入-9999結束程式'))\n",
    "            if year%4 == 0 and (year%100 != 0 or year%400 == 0):\n",
    "                print(f'{year} is a leap year')\n",
    "            elif year == -9999:\n",
    "                print('程式結束')\n",
    "                break\n",
    "            else:\n",
    "                print(f'{year} is not a leap year')\n",
    "        except ValueError:\n",
    "            print('請輸入正整數')\n",
    "\n",
    "if __name__ == '__main__':\n",
    "    leap()"
   ]
  },
  {
   "cell_type": "code",
   "execution_count": 15,
   "metadata": {},
   "outputs": [
    {
     "name": "stdout",
     "output_type": "stream",
     "text": [
      "請輸入有效的輸入值\n",
      "請輸入有效的輸入值\n",
      "請輸入有效的輸入值\n",
      "Even numbers:8\n",
      "Odd numbers:2\n"
     ]
    }
   ],
   "source": [
    "# 奇偶數個數計算\n",
    "'''\n",
    "設計說明：\n",
    "請撰寫一程式，讓使用者輸入十個整數，計算並輸出偶數和奇數的個數。\n",
    "'''\n",
    "\n",
    "def main():\n",
    "    odd = []\n",
    "    even = []\n",
    "    for i in range(10):\n",
    "        while True:\n",
    "            try:\n",
    "                num = int(input(f'請輸入第{i+1}個整數'))\n",
    "                if num % 2 == 0 :\n",
    "                    even.append(num)\n",
    "                    break\n",
    "                else:\n",
    "                    odd.append(num)\n",
    "                    break\n",
    "            except ValueError:\n",
    "                print('請輸入有效的輸入值')\n",
    "    print(f'Even numbers:{len(even)}')\n",
    "    print(f'Odd numbers:{len(odd)}')\n",
    "\n",
    "if __name__ == '__main__':\n",
    "    main()"
   ]
  },
  {
   "cell_type": "code",
   "execution_count": 17,
   "metadata": {},
   "outputs": [
    {
     "name": "stdout",
     "output_type": "stream",
     "text": [
      "Total votes of No.1: Nami = 0\n",
      "Total votes of No.2: Chopper = 1\n",
      "Total null vote = 0\n",
      "--------------------------------------------------\n",
      "Total votes of No.1: Nami = 1\n",
      "Total votes of No.2: Chopper = 1\n",
      "Total null vote = 0\n",
      "--------------------------------------------------\n",
      "Total votes of No.1: Nami = 1\n",
      "Total votes of No.2: Chopper = 2\n",
      "Total null vote = 0\n",
      "--------------------------------------------------\n",
      "Total votes of No.1: Nami = 1\n",
      "Total votes of No.2: Chopper = 3\n",
      "Total null vote = 0\n",
      "--------------------------------------------------\n",
      "Total votes of No.1: Nami = 1\n",
      "Total votes of No.2: Chopper = 4\n",
      "Total null vote = 0\n",
      "--------------------------------------------------\n",
      "=> No.2 Chopper won the election\n"
     ]
    }
   ],
   "source": [
    "# 得票數計算\n",
    "'''\n",
    "設計說明：\n",
    "某次選舉有兩位候選人，分別是No.1: Nami、No.2: Chopper。請撰寫一程式，輸入五張選票，輸入值如為1即表示針對1號候選人投票；輸入值如為2即表示針對2號候選人投票，如輸入其他值則視為廢票。每次投完後需印出目前每位候選人的得票數，最後印出最高票者為當選人；如最終計算有相同的最高票數者或無法選出最高票者，顯示【=> No one won the election.】\n",
    "'''\n",
    "\n",
    "def vote():\n",
    "    Nami = 0\n",
    "    Chopper = 0\n",
    "    invalid_ticket = 0\n",
    "\n",
    "    for i in range(5):\n",
    "        choice = str(input('投票,請投1或2,其餘將視為廢票'))\n",
    "        if choice == '1':\n",
    "            Nami += 1\n",
    "        elif choice == '2':\n",
    "            Chopper += 1\n",
    "        else:\n",
    "            invalid_ticket += 1\n",
    "        print(f'Total votes of No.1: Nami = {Nami}')\n",
    "        print(f'Total votes of No.2: Chopper = {Chopper}')\n",
    "        print(f'Total null vote = {invalid_ticket}')\n",
    "        print('-'*50)\n",
    "    \n",
    "    if int(Nami) > int(Chopper):\n",
    "        print('=> No.1 Nami won the election') \n",
    "    elif int(Nami) < int(Chopper):\n",
    "        print('=> No.2 Chopper won the election')\n",
    "    else :\n",
    "        print('=> No one won the election.')\n",
    "\n",
    "if __name__ == '__main__':\n",
    "    vote()"
   ]
  },
  {
   "cell_type": "code",
   "execution_count": 18,
   "metadata": {},
   "outputs": [
    {
     "name": "stdout",
     "output_type": "stream",
     "text": [
      "      *\n",
      "     ***\n",
      "    *****\n",
      "   *******\n",
      "  *********\n",
      " ***********\n",
      "*************\n"
     ]
    }
   ],
   "source": [
    "# 繪製等腰三角形\n",
    "'''\n",
    "設計說明：\n",
    "請撰寫一程式，依照使用者輸入的n，畫出對應的等腰三角形。\n",
    "'''\n",
    "def print_isosceles_triangle(n):\n",
    "    for i in range(1, n + 1):\n",
    "        # 打印空格，隨著行數遞減\n",
    "        print(' ' * (n - i), end='')\n",
    "        # 打印星號，星號數量為當前行數的兩倍減一\n",
    "        print('*' * (2 * i - 1))\n",
    "\n",
    "def main():\n",
    "    n = int(input(\"請輸入等腰三角形的高度 n: \"))\n",
    "    print_isosceles_triangle(n)\n",
    "\n",
    "if __name__ == '__main__':\n",
    "    main()\n"
   ]
  }
 ],
 "metadata": {
  "kernelspec": {
   "display_name": "py311",
   "language": "python",
   "name": "python3"
  },
  "language_info": {
   "codemirror_mode": {
    "name": "ipython",
    "version": 3
   },
   "file_extension": ".py",
   "mimetype": "text/x-python",
   "name": "python",
   "nbconvert_exporter": "python",
   "pygments_lexer": "ipython3",
   "version": "3.11.7"
  }
 },
 "nbformat": 4,
 "nbformat_minor": 2
}
